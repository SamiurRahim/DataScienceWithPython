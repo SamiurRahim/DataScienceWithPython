{
  "cells": [
    {
      "cell_type": "code",
      "execution_count": null,
      "metadata": {
        "id": "GSGRTPbh6HIV"
      },
      "outputs": [],
      "source": [
        "import pandas as pd\n",
        "import numpy as np\n",
        "import matplotlib.pyplot as plt\n",
        "import seaborn as sns\n",
        "import time\n",
        "from collections import Counter\n",
        "from imblearn.over_sampling import SMOTE\n",
        "import matplotlib.ticker as ticker\n",
        "from sklearn.model_selection import train_test_split\n",
        "from sklearn.preprocessing import StandardScaler,MinMaxScaler,LabelEncoder\n",
        "from sklearn.pipeline import Pipeline\n",
        "from sklearn.model_selection import RepeatedStratifiedKFold,GridSearchCV\n",
        "from sklearn.linear_model import LogisticRegression\n",
        "from sklearn.tree import DecisionTreeClassifier\n",
        "from sklearn.svm import SVC\n",
        "from sklearn.neighbors import KNeighborsClassifier\n",
        "from sklearn.naive_bayes import GaussianNB\n",
        "from sklearn.ensemble import RandomForestClassifier,AdaBoostClassifier,GradientBoostingClassifier\n",
        "from sklearn.metrics import accuracy_score,classification_report,confusion_matrix\n",
        "from sklearn.model_selection import KFold # import KFold\n",
        "from google.colab import drive\n",
        "import warnings\n",
        "warnings.filterwarnings('ignore')\n",
        "%matplotlib inline"
      ]
    },
    {
      "cell_type": "code",
      "execution_count": null,
      "metadata": {
        "colab": {
          "base_uri": "https://localhost:8080/"
        },
        "id": "tBFtARm99J86",
        "outputId": "da406e67-d2c2-4316-b318-99d24e53369b"
      },
      "outputs": [
        {
          "name": "stdout",
          "output_type": "stream",
          "text": [
            "Mounted at /content/drive\n"
          ]
        }
      ],
      "source": [
        "drive.mount('/content/drive')"
      ]
    },
    {
      "cell_type": "code",
      "execution_count": null,
      "metadata": {
        "colab": {
          "base_uri": "https://localhost:8080/",
          "height": 530
        },
        "id": "DhjuADuY9Zdz",
        "outputId": "b898e569-1e9c-4d25-cbb7-1c875759d4e5"
      },
      "outputs": [
        {
          "data": {
            "application/vnd.google.colaboratory.intrinsic+json": {
              "summary": "{\n  \"name\": \"df\",\n  \"rows\": 12316,\n  \"fields\": [\n    {\n      \"column\": \"Day_of_week\",\n      \"properties\": {\n        \"dtype\": \"category\",\n        \"num_unique_values\": 30,\n        \"samples\": [\n          \"fri\",\n          \"Thurs\",\n          \"sun\"\n        ],\n        \"semantic_type\": \"\",\n        \"description\": \"\"\n      }\n    },\n    {\n      \"column\": \"Time\",\n      \"properties\": {\n        \"dtype\": \"category\",\n        \"num_unique_values\": 15,\n        \"samples\": [\n          \"11.30am\",\n          \"11:00 AM\",\n          \"Night\"\n        ],\n        \"semantic_type\": \"\",\n        \"description\": \"\"\n      }\n    },\n    {\n      \"column\": \"District\",\n      \"properties\": {\n        \"dtype\": \"category\",\n        \"num_unique_values\": 82,\n        \"samples\": [\n          \"Gaibandha\",\n          \"Mymensingh\",\n          \"Sunamganj\"\n        ],\n        \"semantic_type\": \"\",\n        \"description\": \"\"\n      }\n    },\n    {\n      \"column\": \"Thana\",\n      \"properties\": {\n        \"dtype\": \"category\",\n        \"num_unique_values\": 2260,\n        \"samples\": [\n          \"Sonimure\",\n          \"Alenge\",\n          \"Saraton Hotel\"\n        ],\n        \"semantic_type\": \"\",\n        \"description\": \"\"\n      }\n    },\n    {\n      \"column\": \"Area_accident_occured\",\n      \"properties\": {\n        \"dtype\": \"string\",\n        \"num_unique_values\": 7966,\n        \"samples\": [\n          \"Nolsite\",\n          \"Choytonkanda\",\n          \"Ikuri and Satien\"\n        ],\n        \"semantic_type\": \"\",\n        \"description\": \"\"\n      }\n    },\n    {\n      \"column\": \"Road_Name\",\n      \"properties\": {\n        \"dtype\": \"category\",\n        \"num_unique_values\": 1674,\n        \"samples\": [\n          \"Ishwarganj-Dawanganj\",\n          \"melkai\",\n          \"Sylhet-Tomabil\"\n        ],\n        \"semantic_type\": \"\",\n        \"description\": \"\"\n      }\n    },\n    {\n      \"column\": \"Type_of_collision\",\n      \"properties\": {\n        \"dtype\": \"category\",\n        \"num_unique_values\": 68,\n        \"samples\": [\n          \"\\nRear End\",\n          \"Hit Object off Road\",\n          \"Head on\"\n        ],\n        \"semantic_type\": \"\",\n        \"description\": \"\"\n      }\n    },\n    {\n      \"column\": \"Number_of_vehicles_involved\",\n      \"properties\": {\n        \"dtype\": \"number\",\n        \"std\": 0,\n        \"min\": 1,\n        \"max\": 7,\n        \"num_unique_values\": 6,\n        \"samples\": [\n          2,\n          1,\n          7\n        ],\n        \"semantic_type\": \"\",\n        \"description\": \"\"\n      }\n    },\n    {\n      \"column\": \"Type_of_vehicle1\",\n      \"properties\": {\n        \"dtype\": \"category\",\n        \"num_unique_values\": 177,\n        \"samples\": [\n          \"Auto Ricksha\",\n          \"Autobike\",\n          \"Truck Trole\"\n        ],\n        \"semantic_type\": \"\",\n        \"description\": \"\"\n      }\n    },\n    {\n      \"column\": \"Type_of_vehicle2\",\n      \"properties\": {\n        \"dtype\": \"category\",\n        \"num_unique_values\": 177,\n        \"samples\": [\n          \"Auto Ricksha\",\n          \"Autobike\",\n          \"Truck Trole\"\n        ],\n        \"semantic_type\": \"\",\n        \"description\": \"\"\n      }\n    },\n    {\n      \"column\": \"Number_of_casualties\",\n      \"properties\": {\n        \"dtype\": \"number\",\n        \"std\": 1,\n        \"min\": 1,\n        \"max\": 8,\n        \"num_unique_values\": 8,\n        \"samples\": [\n          1,\n          5,\n          2\n        ],\n        \"semantic_type\": \"\",\n        \"description\": \"\"\n      }\n    },\n    {\n      \"column\": \"Casualty_class\",\n      \"properties\": {\n        \"dtype\": \"category\",\n        \"num_unique_values\": 4,\n        \"samples\": [\n          \"Driver or rider\",\n          \"Passenger\",\n          \"na\"\n        ],\n        \"semantic_type\": \"\",\n        \"description\": \"\"\n      }\n    },\n    {\n      \"column\": \"Accident_severity\",\n      \"properties\": {\n        \"dtype\": \"category\",\n        \"num_unique_values\": 3,\n        \"samples\": [\n          \"Slight Injury\",\n          \"Serious Injury\",\n          \"Fatal injury\"\n        ],\n        \"semantic_type\": \"\",\n        \"description\": \"\"\n      }\n    }\n  ]\n}",
              "type": "dataframe",
              "variable_name": "df"
            },
            "text/html": [
              "\n",
              "  <div id=\"df-d003a36d-71b8-40b8-b470-4e2e6056daef\" class=\"colab-df-container\">\n",
              "    <div>\n",
              "<style scoped>\n",
              "    .dataframe tbody tr th:only-of-type {\n",
              "        vertical-align: middle;\n",
              "    }\n",
              "\n",
              "    .dataframe tbody tr th {\n",
              "        vertical-align: top;\n",
              "    }\n",
              "\n",
              "    .dataframe thead th {\n",
              "        text-align: right;\n",
              "    }\n",
              "</style>\n",
              "<table border=\"1\" class=\"dataframe\">\n",
              "  <thead>\n",
              "    <tr style=\"text-align: right;\">\n",
              "      <th></th>\n",
              "      <th>Day_of_week</th>\n",
              "      <th>Time</th>\n",
              "      <th>District</th>\n",
              "      <th>Thana</th>\n",
              "      <th>Area_accident_occured</th>\n",
              "      <th>Road_Name</th>\n",
              "      <th>Type_of_collision</th>\n",
              "      <th>Number_of_vehicles_involved</th>\n",
              "      <th>Type_of_vehicle1</th>\n",
              "      <th>Type_of_vehicle2</th>\n",
              "      <th>Number_of_casualties</th>\n",
              "      <th>Casualty_class</th>\n",
              "      <th>Accident_severity</th>\n",
              "    </tr>\n",
              "  </thead>\n",
              "  <tbody>\n",
              "    <tr>\n",
              "      <th>0</th>\n",
              "      <td>Thu</td>\n",
              "      <td>Night</td>\n",
              "      <td>Mymensingh</td>\n",
              "      <td>Sadar</td>\n",
              "      <td>charkalibari</td>\n",
              "      <td>Mymensingh-Sherpur</td>\n",
              "      <td>Rear end</td>\n",
              "      <td>2</td>\n",
              "      <td>Motorcycle</td>\n",
              "      <td>Motorcycle</td>\n",
              "      <td>2</td>\n",
              "      <td>na</td>\n",
              "      <td>Slight Injury</td>\n",
              "    </tr>\n",
              "    <tr>\n",
              "      <th>1</th>\n",
              "      <td>Fri</td>\n",
              "      <td>Night</td>\n",
              "      <td>Rajshahi</td>\n",
              "      <td>Sadar</td>\n",
              "      <td>stadium area</td>\n",
              "      <td>NaN</td>\n",
              "      <td>Rear end</td>\n",
              "      <td>2</td>\n",
              "      <td>Motorcycle</td>\n",
              "      <td>Motorcycle</td>\n",
              "      <td>2</td>\n",
              "      <td>na</td>\n",
              "      <td>Slight Injury</td>\n",
              "    </tr>\n",
              "    <tr>\n",
              "      <th>2</th>\n",
              "      <td>Fri</td>\n",
              "      <td>Day</td>\n",
              "      <td>Shariatpur</td>\n",
              "      <td>NaN</td>\n",
              "      <td>in front of chatiyani bridge</td>\n",
              "      <td>Shariatpur-goshairhat</td>\n",
              "      <td>Hit pedestrian</td>\n",
              "      <td>2</td>\n",
              "      <td>NaN</td>\n",
              "      <td>NaN</td>\n",
              "      <td>2</td>\n",
              "      <td>Driver or rider</td>\n",
              "      <td>Serious Injury</td>\n",
              "    </tr>\n",
              "    <tr>\n",
              "      <th>3</th>\n",
              "      <td>Fri</td>\n",
              "      <td>Unspecified</td>\n",
              "      <td>Jessore</td>\n",
              "      <td>chowgacha</td>\n",
              "      <td>Chandpur</td>\n",
              "      <td>chowgacha-jhikorgacha</td>\n",
              "      <td>Rear end</td>\n",
              "      <td>2</td>\n",
              "      <td>Motorcycle</td>\n",
              "      <td>Motorcycle</td>\n",
              "      <td>2</td>\n",
              "      <td>Pedestrian</td>\n",
              "      <td>Slight Injury</td>\n",
              "    </tr>\n",
              "    <tr>\n",
              "      <th>4</th>\n",
              "      <td>Fri</td>\n",
              "      <td>Unspecified</td>\n",
              "      <td>Bogra</td>\n",
              "      <td>Sadar</td>\n",
              "      <td>kanochgari</td>\n",
              "      <td>Bogra-Dhaka</td>\n",
              "      <td>Hit object in road</td>\n",
              "      <td>2</td>\n",
              "      <td>NaN</td>\n",
              "      <td>NaN</td>\n",
              "      <td>2</td>\n",
              "      <td>na</td>\n",
              "      <td>Slight Injury</td>\n",
              "    </tr>\n",
              "    <tr>\n",
              "      <th>...</th>\n",
              "      <td>...</td>\n",
              "      <td>...</td>\n",
              "      <td>...</td>\n",
              "      <td>...</td>\n",
              "      <td>...</td>\n",
              "      <td>...</td>\n",
              "      <td>...</td>\n",
              "      <td>...</td>\n",
              "      <td>...</td>\n",
              "      <td>...</td>\n",
              "      <td>...</td>\n",
              "      <td>...</td>\n",
              "      <td>...</td>\n",
              "    </tr>\n",
              "    <tr>\n",
              "      <th>12311</th>\n",
              "      <td>Tue</td>\n",
              "      <td>day</td>\n",
              "      <td>Kurigram</td>\n",
              "      <td>Raumari</td>\n",
              "      <td>Jadurchar Girls School</td>\n",
              "      <td>Raumari-Dhaka</td>\n",
              "      <td>Collision</td>\n",
              "      <td>2</td>\n",
              "      <td>Truck</td>\n",
              "      <td>Truck</td>\n",
              "      <td>1</td>\n",
              "      <td>na</td>\n",
              "      <td>Slight Injury</td>\n",
              "    </tr>\n",
              "    <tr>\n",
              "      <th>12312</th>\n",
              "      <td>Tue</td>\n",
              "      <td>day</td>\n",
              "      <td>Chittagong</td>\n",
              "      <td>Raujan</td>\n",
              "      <td>Pahartole</td>\n",
              "      <td>?</td>\n",
              "      <td>Overtrurn</td>\n",
              "      <td>2</td>\n",
              "      <td>NaN</td>\n",
              "      <td>NaN</td>\n",
              "      <td>1</td>\n",
              "      <td>na</td>\n",
              "      <td>Slight Injury</td>\n",
              "    </tr>\n",
              "    <tr>\n",
              "      <th>12313</th>\n",
              "      <td>Tue</td>\n",
              "      <td>day</td>\n",
              "      <td>Gopalganj</td>\n",
              "      <td>Sadar</td>\n",
              "      <td>Badgram</td>\n",
              "      <td>Dhaka-Khulna</td>\n",
              "      <td>Road Accident</td>\n",
              "      <td>1</td>\n",
              "      <td>NaN</td>\n",
              "      <td>NaN</td>\n",
              "      <td>1</td>\n",
              "      <td>Driver or rider</td>\n",
              "      <td>Serious Injury</td>\n",
              "    </tr>\n",
              "    <tr>\n",
              "      <th>12314</th>\n",
              "      <td>Tue</td>\n",
              "      <td>day</td>\n",
              "      <td>Sylhet</td>\n",
              "      <td>Kanaighat</td>\n",
              "      <td>?</td>\n",
              "      <td>?</td>\n",
              "      <td>Overtrurn</td>\n",
              "      <td>2</td>\n",
              "      <td>NaN</td>\n",
              "      <td>NaN</td>\n",
              "      <td>1</td>\n",
              "      <td>na</td>\n",
              "      <td>Slight Injury</td>\n",
              "    </tr>\n",
              "    <tr>\n",
              "      <th>12315</th>\n",
              "      <td>Tue</td>\n",
              "      <td>day</td>\n",
              "      <td>Netrokona</td>\n",
              "      <td>Purbadhala</td>\n",
              "      <td>Atkapara</td>\n",
              "      <td>?</td>\n",
              "      <td>Hit Pedestrian</td>\n",
              "      <td>2</td>\n",
              "      <td>NaN</td>\n",
              "      <td>NaN</td>\n",
              "      <td>1</td>\n",
              "      <td>Pedestrian</td>\n",
              "      <td>Slight Injury</td>\n",
              "    </tr>\n",
              "  </tbody>\n",
              "</table>\n",
              "<p>12316 rows × 13 columns</p>\n",
              "</div>\n",
              "    <div class=\"colab-df-buttons\">\n",
              "\n",
              "  <div class=\"colab-df-container\">\n",
              "    <button class=\"colab-df-convert\" onclick=\"convertToInteractive('df-d003a36d-71b8-40b8-b470-4e2e6056daef')\"\n",
              "            title=\"Convert this dataframe to an interactive table.\"\n",
              "            style=\"display:none;\">\n",
              "\n",
              "  <svg xmlns=\"http://www.w3.org/2000/svg\" height=\"24px\" viewBox=\"0 -960 960 960\">\n",
              "    <path d=\"M120-120v-720h720v720H120Zm60-500h600v-160H180v160Zm220 220h160v-160H400v160Zm0 220h160v-160H400v160ZM180-400h160v-160H180v160Zm440 0h160v-160H620v160ZM180-180h160v-160H180v160Zm440 0h160v-160H620v160Z\"/>\n",
              "  </svg>\n",
              "    </button>\n",
              "\n",
              "  <style>\n",
              "    .colab-df-container {\n",
              "      display:flex;\n",
              "      gap: 12px;\n",
              "    }\n",
              "\n",
              "    .colab-df-convert {\n",
              "      background-color: #E8F0FE;\n",
              "      border: none;\n",
              "      border-radius: 50%;\n",
              "      cursor: pointer;\n",
              "      display: none;\n",
              "      fill: #1967D2;\n",
              "      height: 32px;\n",
              "      padding: 0 0 0 0;\n",
              "      width: 32px;\n",
              "    }\n",
              "\n",
              "    .colab-df-convert:hover {\n",
              "      background-color: #E2EBFA;\n",
              "      box-shadow: 0px 1px 2px rgba(60, 64, 67, 0.3), 0px 1px 3px 1px rgba(60, 64, 67, 0.15);\n",
              "      fill: #174EA6;\n",
              "    }\n",
              "\n",
              "    .colab-df-buttons div {\n",
              "      margin-bottom: 4px;\n",
              "    }\n",
              "\n",
              "    [theme=dark] .colab-df-convert {\n",
              "      background-color: #3B4455;\n",
              "      fill: #D2E3FC;\n",
              "    }\n",
              "\n",
              "    [theme=dark] .colab-df-convert:hover {\n",
              "      background-color: #434B5C;\n",
              "      box-shadow: 0px 1px 3px 1px rgba(0, 0, 0, 0.15);\n",
              "      filter: drop-shadow(0px 1px 2px rgba(0, 0, 0, 0.3));\n",
              "      fill: #FFFFFF;\n",
              "    }\n",
              "  </style>\n",
              "\n",
              "    <script>\n",
              "      const buttonEl =\n",
              "        document.querySelector('#df-d003a36d-71b8-40b8-b470-4e2e6056daef button.colab-df-convert');\n",
              "      buttonEl.style.display =\n",
              "        google.colab.kernel.accessAllowed ? 'block' : 'none';\n",
              "\n",
              "      async function convertToInteractive(key) {\n",
              "        const element = document.querySelector('#df-d003a36d-71b8-40b8-b470-4e2e6056daef');\n",
              "        const dataTable =\n",
              "          await google.colab.kernel.invokeFunction('convertToInteractive',\n",
              "                                                    [key], {});\n",
              "        if (!dataTable) return;\n",
              "\n",
              "        const docLinkHtml = 'Like what you see? Visit the ' +\n",
              "          '<a target=\"_blank\" href=https://colab.research.google.com/notebooks/data_table.ipynb>data table notebook</a>'\n",
              "          + ' to learn more about interactive tables.';\n",
              "        element.innerHTML = '';\n",
              "        dataTable['output_type'] = 'display_data';\n",
              "        await google.colab.output.renderOutput(dataTable, element);\n",
              "        const docLink = document.createElement('div');\n",
              "        docLink.innerHTML = docLinkHtml;\n",
              "        element.appendChild(docLink);\n",
              "      }\n",
              "    </script>\n",
              "  </div>\n",
              "\n",
              "\n",
              "<div id=\"df-966763ec-b88d-4eb2-a0ac-c84923985693\">\n",
              "  <button class=\"colab-df-quickchart\" onclick=\"quickchart('df-966763ec-b88d-4eb2-a0ac-c84923985693')\"\n",
              "            title=\"Suggest charts\"\n",
              "            style=\"display:none;\">\n",
              "\n",
              "<svg xmlns=\"http://www.w3.org/2000/svg\" height=\"24px\"viewBox=\"0 0 24 24\"\n",
              "     width=\"24px\">\n",
              "    <g>\n",
              "        <path d=\"M19 3H5c-1.1 0-2 .9-2 2v14c0 1.1.9 2 2 2h14c1.1 0 2-.9 2-2V5c0-1.1-.9-2-2-2zM9 17H7v-7h2v7zm4 0h-2V7h2v10zm4 0h-2v-4h2v4z\"/>\n",
              "    </g>\n",
              "</svg>\n",
              "  </button>\n",
              "\n",
              "<style>\n",
              "  .colab-df-quickchart {\n",
              "      --bg-color: #E8F0FE;\n",
              "      --fill-color: #1967D2;\n",
              "      --hover-bg-color: #E2EBFA;\n",
              "      --hover-fill-color: #174EA6;\n",
              "      --disabled-fill-color: #AAA;\n",
              "      --disabled-bg-color: #DDD;\n",
              "  }\n",
              "\n",
              "  [theme=dark] .colab-df-quickchart {\n",
              "      --bg-color: #3B4455;\n",
              "      --fill-color: #D2E3FC;\n",
              "      --hover-bg-color: #434B5C;\n",
              "      --hover-fill-color: #FFFFFF;\n",
              "      --disabled-bg-color: #3B4455;\n",
              "      --disabled-fill-color: #666;\n",
              "  }\n",
              "\n",
              "  .colab-df-quickchart {\n",
              "    background-color: var(--bg-color);\n",
              "    border: none;\n",
              "    border-radius: 50%;\n",
              "    cursor: pointer;\n",
              "    display: none;\n",
              "    fill: var(--fill-color);\n",
              "    height: 32px;\n",
              "    padding: 0;\n",
              "    width: 32px;\n",
              "  }\n",
              "\n",
              "  .colab-df-quickchart:hover {\n",
              "    background-color: var(--hover-bg-color);\n",
              "    box-shadow: 0 1px 2px rgba(60, 64, 67, 0.3), 0 1px 3px 1px rgba(60, 64, 67, 0.15);\n",
              "    fill: var(--button-hover-fill-color);\n",
              "  }\n",
              "\n",
              "  .colab-df-quickchart-complete:disabled,\n",
              "  .colab-df-quickchart-complete:disabled:hover {\n",
              "    background-color: var(--disabled-bg-color);\n",
              "    fill: var(--disabled-fill-color);\n",
              "    box-shadow: none;\n",
              "  }\n",
              "\n",
              "  .colab-df-spinner {\n",
              "    border: 2px solid var(--fill-color);\n",
              "    border-color: transparent;\n",
              "    border-bottom-color: var(--fill-color);\n",
              "    animation:\n",
              "      spin 1s steps(1) infinite;\n",
              "  }\n",
              "\n",
              "  @keyframes spin {\n",
              "    0% {\n",
              "      border-color: transparent;\n",
              "      border-bottom-color: var(--fill-color);\n",
              "      border-left-color: var(--fill-color);\n",
              "    }\n",
              "    20% {\n",
              "      border-color: transparent;\n",
              "      border-left-color: var(--fill-color);\n",
              "      border-top-color: var(--fill-color);\n",
              "    }\n",
              "    30% {\n",
              "      border-color: transparent;\n",
              "      border-left-color: var(--fill-color);\n",
              "      border-top-color: var(--fill-color);\n",
              "      border-right-color: var(--fill-color);\n",
              "    }\n",
              "    40% {\n",
              "      border-color: transparent;\n",
              "      border-right-color: var(--fill-color);\n",
              "      border-top-color: var(--fill-color);\n",
              "    }\n",
              "    60% {\n",
              "      border-color: transparent;\n",
              "      border-right-color: var(--fill-color);\n",
              "    }\n",
              "    80% {\n",
              "      border-color: transparent;\n",
              "      border-right-color: var(--fill-color);\n",
              "      border-bottom-color: var(--fill-color);\n",
              "    }\n",
              "    90% {\n",
              "      border-color: transparent;\n",
              "      border-bottom-color: var(--fill-color);\n",
              "    }\n",
              "  }\n",
              "</style>\n",
              "\n",
              "  <script>\n",
              "    async function quickchart(key) {\n",
              "      const quickchartButtonEl =\n",
              "        document.querySelector('#' + key + ' button');\n",
              "      quickchartButtonEl.disabled = true;  // To prevent multiple clicks.\n",
              "      quickchartButtonEl.classList.add('colab-df-spinner');\n",
              "      try {\n",
              "        const charts = await google.colab.kernel.invokeFunction(\n",
              "            'suggestCharts', [key], {});\n",
              "      } catch (error) {\n",
              "        console.error('Error during call to suggestCharts:', error);\n",
              "      }\n",
              "      quickchartButtonEl.classList.remove('colab-df-spinner');\n",
              "      quickchartButtonEl.classList.add('colab-df-quickchart-complete');\n",
              "    }\n",
              "    (() => {\n",
              "      let quickchartButtonEl =\n",
              "        document.querySelector('#df-966763ec-b88d-4eb2-a0ac-c84923985693 button');\n",
              "      quickchartButtonEl.style.display =\n",
              "        google.colab.kernel.accessAllowed ? 'block' : 'none';\n",
              "    })();\n",
              "  </script>\n",
              "</div>\n",
              "\n",
              "  <div id=\"id_9a80d3af-ef5d-4f28-ba4c-0467104e96dc\">\n",
              "    <style>\n",
              "      .colab-df-generate {\n",
              "        background-color: #E8F0FE;\n",
              "        border: none;\n",
              "        border-radius: 50%;\n",
              "        cursor: pointer;\n",
              "        display: none;\n",
              "        fill: #1967D2;\n",
              "        height: 32px;\n",
              "        padding: 0 0 0 0;\n",
              "        width: 32px;\n",
              "      }\n",
              "\n",
              "      .colab-df-generate:hover {\n",
              "        background-color: #E2EBFA;\n",
              "        box-shadow: 0px 1px 2px rgba(60, 64, 67, 0.3), 0px 1px 3px 1px rgba(60, 64, 67, 0.15);\n",
              "        fill: #174EA6;\n",
              "      }\n",
              "\n",
              "      [theme=dark] .colab-df-generate {\n",
              "        background-color: #3B4455;\n",
              "        fill: #D2E3FC;\n",
              "      }\n",
              "\n",
              "      [theme=dark] .colab-df-generate:hover {\n",
              "        background-color: #434B5C;\n",
              "        box-shadow: 0px 1px 3px 1px rgba(0, 0, 0, 0.15);\n",
              "        filter: drop-shadow(0px 1px 2px rgba(0, 0, 0, 0.3));\n",
              "        fill: #FFFFFF;\n",
              "      }\n",
              "    </style>\n",
              "    <button class=\"colab-df-generate\" onclick=\"generateWithVariable('df')\"\n",
              "            title=\"Generate code using this dataframe.\"\n",
              "            style=\"display:none;\">\n",
              "\n",
              "  <svg xmlns=\"http://www.w3.org/2000/svg\" height=\"24px\"viewBox=\"0 0 24 24\"\n",
              "       width=\"24px\">\n",
              "    <path d=\"M7,19H8.4L18.45,9,17,7.55,7,17.6ZM5,21V16.75L18.45,3.32a2,2,0,0,1,2.83,0l1.4,1.43a1.91,1.91,0,0,1,.58,1.4,1.91,1.91,0,0,1-.58,1.4L9.25,21ZM18.45,9,17,7.55Zm-12,3A5.31,5.31,0,0,0,4.9,8.1,5.31,5.31,0,0,0,1,6.5,5.31,5.31,0,0,0,4.9,4.9,5.31,5.31,0,0,0,6.5,1,5.31,5.31,0,0,0,8.1,4.9,5.31,5.31,0,0,0,12,6.5,5.46,5.46,0,0,0,6.5,12Z\"/>\n",
              "  </svg>\n",
              "    </button>\n",
              "    <script>\n",
              "      (() => {\n",
              "      const buttonEl =\n",
              "        document.querySelector('#id_9a80d3af-ef5d-4f28-ba4c-0467104e96dc button.colab-df-generate');\n",
              "      buttonEl.style.display =\n",
              "        google.colab.kernel.accessAllowed ? 'block' : 'none';\n",
              "\n",
              "      buttonEl.onclick = () => {\n",
              "        google.colab.notebook.generateWithVariable('df');\n",
              "      }\n",
              "      })();\n",
              "    </script>\n",
              "  </div>\n",
              "\n",
              "    </div>\n",
              "  </div>\n"
            ],
            "text/plain": [
              "      Day_of_week         Time    District       Thana  \\\n",
              "0             Thu        Night  Mymensingh       Sadar   \n",
              "1             Fri        Night    Rajshahi       Sadar   \n",
              "2             Fri          Day  Shariatpur         NaN   \n",
              "3             Fri  Unspecified     Jessore   chowgacha   \n",
              "4             Fri  Unspecified       Bogra       Sadar   \n",
              "...           ...          ...         ...         ...   \n",
              "12311         Tue          day    Kurigram     Raumari   \n",
              "12312         Tue          day  Chittagong      Raujan   \n",
              "12313         Tue          day   Gopalganj       Sadar   \n",
              "12314         Tue          day      Sylhet   Kanaighat   \n",
              "12315         Tue          day   Netrokona  Purbadhala   \n",
              "\n",
              "              Area_accident_occured              Road_Name  \\\n",
              "0                      charkalibari     Mymensingh-Sherpur   \n",
              "1                      stadium area                    NaN   \n",
              "2      in front of chatiyani bridge  Shariatpur-goshairhat   \n",
              "3                          Chandpur  chowgacha-jhikorgacha   \n",
              "4                        kanochgari            Bogra-Dhaka   \n",
              "...                             ...                    ...   \n",
              "12311        Jadurchar Girls School          Raumari-Dhaka   \n",
              "12312                     Pahartole                      ?   \n",
              "12313                       Badgram           Dhaka-Khulna   \n",
              "12314                             ?                      ?   \n",
              "12315                      Atkapara                      ?   \n",
              "\n",
              "        Type_of_collision  Number_of_vehicles_involved Type_of_vehicle1  \\\n",
              "0                Rear end                            2       Motorcycle   \n",
              "1                Rear end                            2       Motorcycle   \n",
              "2          Hit pedestrian                            2              NaN   \n",
              "3                Rear end                            2       Motorcycle   \n",
              "4      Hit object in road                            2              NaN   \n",
              "...                   ...                          ...              ...   \n",
              "12311           Collision                            2            Truck   \n",
              "12312           Overtrurn                            2              NaN   \n",
              "12313       Road Accident                            1              NaN   \n",
              "12314           Overtrurn                            2              NaN   \n",
              "12315      Hit Pedestrian                            2              NaN   \n",
              "\n",
              "      Type_of_vehicle2  Number_of_casualties   Casualty_class  \\\n",
              "0           Motorcycle                     2               na   \n",
              "1           Motorcycle                     2               na   \n",
              "2                  NaN                     2  Driver or rider   \n",
              "3           Motorcycle                     2       Pedestrian   \n",
              "4                  NaN                     2               na   \n",
              "...                ...                   ...              ...   \n",
              "12311            Truck                     1               na   \n",
              "12312              NaN                     1               na   \n",
              "12313              NaN                     1  Driver or rider   \n",
              "12314              NaN                     1               na   \n",
              "12315              NaN                     1       Pedestrian   \n",
              "\n",
              "      Accident_severity  \n",
              "0         Slight Injury  \n",
              "1         Slight Injury  \n",
              "2        Serious Injury  \n",
              "3         Slight Injury  \n",
              "4         Slight Injury  \n",
              "...                 ...  \n",
              "12311     Slight Injury  \n",
              "12312     Slight Injury  \n",
              "12313    Serious Injury  \n",
              "12314     Slight Injury  \n",
              "12315     Slight Injury  \n",
              "\n",
              "[12316 rows x 13 columns]"
            ]
          },
          "execution_count": 3,
          "metadata": {},
          "output_type": "execute_result"
        }
      ],
      "source": [
        "df=pd.read_csv('/content/drive/MyDrive/Accident_Severity/Road_Accident.csv')\n",
        "df"
      ]
    },
    {
      "cell_type": "code",
      "execution_count": null,
      "metadata": {
        "colab": {
          "base_uri": "https://localhost:8080/",
          "height": 278
        },
        "id": "Ka7mFky69fQl",
        "outputId": "e43c5ff7-1f6f-439f-aac3-2fd4935ade9f"
      },
      "outputs": [
        {
          "data": {
            "application/vnd.google.colaboratory.intrinsic+json": {
              "repr_error": "0",
              "type": "dataframe"
            },
            "text/html": [
              "\n",
              "  <div id=\"df-00a11105-ed15-4ff3-ad29-3875f81217d0\" class=\"colab-df-container\">\n",
              "    <div>\n",
              "<style scoped>\n",
              "    .dataframe tbody tr th:only-of-type {\n",
              "        vertical-align: middle;\n",
              "    }\n",
              "\n",
              "    .dataframe tbody tr th {\n",
              "        vertical-align: top;\n",
              "    }\n",
              "\n",
              "    .dataframe thead th {\n",
              "        text-align: right;\n",
              "    }\n",
              "</style>\n",
              "<table border=\"1\" class=\"dataframe\">\n",
              "  <thead>\n",
              "    <tr style=\"text-align: right;\">\n",
              "      <th></th>\n",
              "      <th>Day_of_week</th>\n",
              "      <th>Time</th>\n",
              "      <th>District</th>\n",
              "      <th>Thana</th>\n",
              "      <th>Area_accident_occured</th>\n",
              "      <th>Road_Name</th>\n",
              "      <th>Type_of_collision</th>\n",
              "      <th>Number_of_vehicles_involved</th>\n",
              "      <th>Type_of_vehicle1</th>\n",
              "      <th>Type_of_vehicle2</th>\n",
              "      <th>Number_of_casualties</th>\n",
              "      <th>Casualty_class</th>\n",
              "      <th>Accident_severity</th>\n",
              "    </tr>\n",
              "  </thead>\n",
              "  <tbody>\n",
              "    <tr>\n",
              "      <th>914</th>\n",
              "      <td>Sun</td>\n",
              "      <td>Day</td>\n",
              "      <td>Narayanganj</td>\n",
              "      <td>Keraniganj</td>\n",
              "      <td>Keraniganj</td>\n",
              "      <td>Narayanganj</td>\n",
              "      <td>Hit Pedestrian</td>\n",
              "      <td>2</td>\n",
              "      <td>NaN</td>\n",
              "      <td>NaN</td>\n",
              "      <td>1</td>\n",
              "      <td>Driver or rider</td>\n",
              "      <td>Serious Injury</td>\n",
              "    </tr>\n",
              "    <tr>\n",
              "      <th>11927</th>\n",
              "      <td>Sun</td>\n",
              "      <td>Day</td>\n",
              "      <td>Jessore</td>\n",
              "      <td>Abhoynagar</td>\n",
              "      <td>Nowapara</td>\n",
              "      <td>Jessore-Khulna</td>\n",
              "      <td>Lost Control</td>\n",
              "      <td>2</td>\n",
              "      <td>NaN</td>\n",
              "      <td>NaN</td>\n",
              "      <td>1</td>\n",
              "      <td>Driver or rider</td>\n",
              "      <td>Serious Injury</td>\n",
              "    </tr>\n",
              "    <tr>\n",
              "      <th>9132</th>\n",
              "      <td>Sat</td>\n",
              "      <td>Day</td>\n",
              "      <td>Sirajganj</td>\n",
              "      <td>Belkuchi</td>\n",
              "      <td>NaN</td>\n",
              "      <td>Sirajganj</td>\n",
              "      <td>Hit Pedestrian</td>\n",
              "      <td>2</td>\n",
              "      <td>NaN</td>\n",
              "      <td>NaN</td>\n",
              "      <td>2</td>\n",
              "      <td>Passenger</td>\n",
              "      <td>Slight Injury</td>\n",
              "    </tr>\n",
              "    <tr>\n",
              "      <th>9466</th>\n",
              "      <td>Tus</td>\n",
              "      <td>Day</td>\n",
              "      <td>Manikganj</td>\n",
              "      <td>Ghior</td>\n",
              "      <td>Ghior Bus Station</td>\n",
              "      <td>Dhaka-Aricha</td>\n",
              "      <td>Hit Pedestrian</td>\n",
              "      <td>1</td>\n",
              "      <td>NaN</td>\n",
              "      <td>NaN</td>\n",
              "      <td>1</td>\n",
              "      <td>Driver or rider</td>\n",
              "      <td>Slight Injury</td>\n",
              "    </tr>\n",
              "    <tr>\n",
              "      <th>6237</th>\n",
              "      <td>Mon</td>\n",
              "      <td>Day</td>\n",
              "      <td>Naogaon</td>\n",
              "      <td>Naogaon Sadar</td>\n",
              "      <td>Paharpur</td>\n",
              "      <td>Naogaon</td>\n",
              "      <td>Hit Pedestrian</td>\n",
              "      <td>2</td>\n",
              "      <td>NaN</td>\n",
              "      <td>NaN</td>\n",
              "      <td>1</td>\n",
              "      <td>Passenger</td>\n",
              "      <td>Slight Injury</td>\n",
              "    </tr>\n",
              "  </tbody>\n",
              "</table>\n",
              "</div>\n",
              "    <div class=\"colab-df-buttons\">\n",
              "\n",
              "  <div class=\"colab-df-container\">\n",
              "    <button class=\"colab-df-convert\" onclick=\"convertToInteractive('df-00a11105-ed15-4ff3-ad29-3875f81217d0')\"\n",
              "            title=\"Convert this dataframe to an interactive table.\"\n",
              "            style=\"display:none;\">\n",
              "\n",
              "  <svg xmlns=\"http://www.w3.org/2000/svg\" height=\"24px\" viewBox=\"0 -960 960 960\">\n",
              "    <path d=\"M120-120v-720h720v720H120Zm60-500h600v-160H180v160Zm220 220h160v-160H400v160Zm0 220h160v-160H400v160ZM180-400h160v-160H180v160Zm440 0h160v-160H620v160ZM180-180h160v-160H180v160Zm440 0h160v-160H620v160Z\"/>\n",
              "  </svg>\n",
              "    </button>\n",
              "\n",
              "  <style>\n",
              "    .colab-df-container {\n",
              "      display:flex;\n",
              "      gap: 12px;\n",
              "    }\n",
              "\n",
              "    .colab-df-convert {\n",
              "      background-color: #E8F0FE;\n",
              "      border: none;\n",
              "      border-radius: 50%;\n",
              "      cursor: pointer;\n",
              "      display: none;\n",
              "      fill: #1967D2;\n",
              "      height: 32px;\n",
              "      padding: 0 0 0 0;\n",
              "      width: 32px;\n",
              "    }\n",
              "\n",
              "    .colab-df-convert:hover {\n",
              "      background-color: #E2EBFA;\n",
              "      box-shadow: 0px 1px 2px rgba(60, 64, 67, 0.3), 0px 1px 3px 1px rgba(60, 64, 67, 0.15);\n",
              "      fill: #174EA6;\n",
              "    }\n",
              "\n",
              "    .colab-df-buttons div {\n",
              "      margin-bottom: 4px;\n",
              "    }\n",
              "\n",
              "    [theme=dark] .colab-df-convert {\n",
              "      background-color: #3B4455;\n",
              "      fill: #D2E3FC;\n",
              "    }\n",
              "\n",
              "    [theme=dark] .colab-df-convert:hover {\n",
              "      background-color: #434B5C;\n",
              "      box-shadow: 0px 1px 3px 1px rgba(0, 0, 0, 0.15);\n",
              "      filter: drop-shadow(0px 1px 2px rgba(0, 0, 0, 0.3));\n",
              "      fill: #FFFFFF;\n",
              "    }\n",
              "  </style>\n",
              "\n",
              "    <script>\n",
              "      const buttonEl =\n",
              "        document.querySelector('#df-00a11105-ed15-4ff3-ad29-3875f81217d0 button.colab-df-convert');\n",
              "      buttonEl.style.display =\n",
              "        google.colab.kernel.accessAllowed ? 'block' : 'none';\n",
              "\n",
              "      async function convertToInteractive(key) {\n",
              "        const element = document.querySelector('#df-00a11105-ed15-4ff3-ad29-3875f81217d0');\n",
              "        const dataTable =\n",
              "          await google.colab.kernel.invokeFunction('convertToInteractive',\n",
              "                                                    [key], {});\n",
              "        if (!dataTable) return;\n",
              "\n",
              "        const docLinkHtml = 'Like what you see? Visit the ' +\n",
              "          '<a target=\"_blank\" href=https://colab.research.google.com/notebooks/data_table.ipynb>data table notebook</a>'\n",
              "          + ' to learn more about interactive tables.';\n",
              "        element.innerHTML = '';\n",
              "        dataTable['output_type'] = 'display_data';\n",
              "        await google.colab.output.renderOutput(dataTable, element);\n",
              "        const docLink = document.createElement('div');\n",
              "        docLink.innerHTML = docLinkHtml;\n",
              "        element.appendChild(docLink);\n",
              "      }\n",
              "    </script>\n",
              "  </div>\n",
              "\n",
              "\n",
              "<div id=\"df-5f43f419-cdaa-4a52-8708-b95abaf132b3\">\n",
              "  <button class=\"colab-df-quickchart\" onclick=\"quickchart('df-5f43f419-cdaa-4a52-8708-b95abaf132b3')\"\n",
              "            title=\"Suggest charts\"\n",
              "            style=\"display:none;\">\n",
              "\n",
              "<svg xmlns=\"http://www.w3.org/2000/svg\" height=\"24px\"viewBox=\"0 0 24 24\"\n",
              "     width=\"24px\">\n",
              "    <g>\n",
              "        <path d=\"M19 3H5c-1.1 0-2 .9-2 2v14c0 1.1.9 2 2 2h14c1.1 0 2-.9 2-2V5c0-1.1-.9-2-2-2zM9 17H7v-7h2v7zm4 0h-2V7h2v10zm4 0h-2v-4h2v4z\"/>\n",
              "    </g>\n",
              "</svg>\n",
              "  </button>\n",
              "\n",
              "<style>\n",
              "  .colab-df-quickchart {\n",
              "      --bg-color: #E8F0FE;\n",
              "      --fill-color: #1967D2;\n",
              "      --hover-bg-color: #E2EBFA;\n",
              "      --hover-fill-color: #174EA6;\n",
              "      --disabled-fill-color: #AAA;\n",
              "      --disabled-bg-color: #DDD;\n",
              "  }\n",
              "\n",
              "  [theme=dark] .colab-df-quickchart {\n",
              "      --bg-color: #3B4455;\n",
              "      --fill-color: #D2E3FC;\n",
              "      --hover-bg-color: #434B5C;\n",
              "      --hover-fill-color: #FFFFFF;\n",
              "      --disabled-bg-color: #3B4455;\n",
              "      --disabled-fill-color: #666;\n",
              "  }\n",
              "\n",
              "  .colab-df-quickchart {\n",
              "    background-color: var(--bg-color);\n",
              "    border: none;\n",
              "    border-radius: 50%;\n",
              "    cursor: pointer;\n",
              "    display: none;\n",
              "    fill: var(--fill-color);\n",
              "    height: 32px;\n",
              "    padding: 0;\n",
              "    width: 32px;\n",
              "  }\n",
              "\n",
              "  .colab-df-quickchart:hover {\n",
              "    background-color: var(--hover-bg-color);\n",
              "    box-shadow: 0 1px 2px rgba(60, 64, 67, 0.3), 0 1px 3px 1px rgba(60, 64, 67, 0.15);\n",
              "    fill: var(--button-hover-fill-color);\n",
              "  }\n",
              "\n",
              "  .colab-df-quickchart-complete:disabled,\n",
              "  .colab-df-quickchart-complete:disabled:hover {\n",
              "    background-color: var(--disabled-bg-color);\n",
              "    fill: var(--disabled-fill-color);\n",
              "    box-shadow: none;\n",
              "  }\n",
              "\n",
              "  .colab-df-spinner {\n",
              "    border: 2px solid var(--fill-color);\n",
              "    border-color: transparent;\n",
              "    border-bottom-color: var(--fill-color);\n",
              "    animation:\n",
              "      spin 1s steps(1) infinite;\n",
              "  }\n",
              "\n",
              "  @keyframes spin {\n",
              "    0% {\n",
              "      border-color: transparent;\n",
              "      border-bottom-color: var(--fill-color);\n",
              "      border-left-color: var(--fill-color);\n",
              "    }\n",
              "    20% {\n",
              "      border-color: transparent;\n",
              "      border-left-color: var(--fill-color);\n",
              "      border-top-color: var(--fill-color);\n",
              "    }\n",
              "    30% {\n",
              "      border-color: transparent;\n",
              "      border-left-color: var(--fill-color);\n",
              "      border-top-color: var(--fill-color);\n",
              "      border-right-color: var(--fill-color);\n",
              "    }\n",
              "    40% {\n",
              "      border-color: transparent;\n",
              "      border-right-color: var(--fill-color);\n",
              "      border-top-color: var(--fill-color);\n",
              "    }\n",
              "    60% {\n",
              "      border-color: transparent;\n",
              "      border-right-color: var(--fill-color);\n",
              "    }\n",
              "    80% {\n",
              "      border-color: transparent;\n",
              "      border-right-color: var(--fill-color);\n",
              "      border-bottom-color: var(--fill-color);\n",
              "    }\n",
              "    90% {\n",
              "      border-color: transparent;\n",
              "      border-bottom-color: var(--fill-color);\n",
              "    }\n",
              "  }\n",
              "</style>\n",
              "\n",
              "  <script>\n",
              "    async function quickchart(key) {\n",
              "      const quickchartButtonEl =\n",
              "        document.querySelector('#' + key + ' button');\n",
              "      quickchartButtonEl.disabled = true;  // To prevent multiple clicks.\n",
              "      quickchartButtonEl.classList.add('colab-df-spinner');\n",
              "      try {\n",
              "        const charts = await google.colab.kernel.invokeFunction(\n",
              "            'suggestCharts', [key], {});\n",
              "      } catch (error) {\n",
              "        console.error('Error during call to suggestCharts:', error);\n",
              "      }\n",
              "      quickchartButtonEl.classList.remove('colab-df-spinner');\n",
              "      quickchartButtonEl.classList.add('colab-df-quickchart-complete');\n",
              "    }\n",
              "    (() => {\n",
              "      let quickchartButtonEl =\n",
              "        document.querySelector('#df-5f43f419-cdaa-4a52-8708-b95abaf132b3 button');\n",
              "      quickchartButtonEl.style.display =\n",
              "        google.colab.kernel.accessAllowed ? 'block' : 'none';\n",
              "    })();\n",
              "  </script>\n",
              "</div>\n",
              "\n",
              "    </div>\n",
              "  </div>\n"
            ],
            "text/plain": [
              "      Day_of_week Time     District          Thana Area_accident_occured  \\\n",
              "914           Sun  Day  Narayanganj     Keraniganj            Keraniganj   \n",
              "11927         Sun  Day      Jessore     Abhoynagar              Nowapara   \n",
              "9132          Sat  Day    Sirajganj       Belkuchi                   NaN   \n",
              "9466          Tus  Day    Manikganj          Ghior     Ghior Bus Station   \n",
              "6237          Mon  Day      Naogaon  Naogaon Sadar              Paharpur   \n",
              "\n",
              "            Road_Name Type_of_collision  Number_of_vehicles_involved  \\\n",
              "914       Narayanganj    Hit Pedestrian                            2   \n",
              "11927  Jessore-Khulna      Lost Control                            2   \n",
              "9132        Sirajganj    Hit Pedestrian                            2   \n",
              "9466     Dhaka-Aricha    Hit Pedestrian                            1   \n",
              "6237          Naogaon    Hit Pedestrian                            2   \n",
              "\n",
              "      Type_of_vehicle1 Type_of_vehicle2  Number_of_casualties  \\\n",
              "914                NaN              NaN                     1   \n",
              "11927              NaN              NaN                     1   \n",
              "9132               NaN              NaN                     2   \n",
              "9466               NaN              NaN                     1   \n",
              "6237               NaN              NaN                     1   \n",
              "\n",
              "        Casualty_class Accident_severity  \n",
              "914    Driver or rider    Serious Injury  \n",
              "11927  Driver or rider    Serious Injury  \n",
              "9132         Passenger     Slight Injury  \n",
              "9466   Driver or rider     Slight Injury  \n",
              "6237         Passenger     Slight Injury  "
            ]
          },
          "execution_count": 4,
          "metadata": {},
          "output_type": "execute_result"
        }
      ],
      "source": [
        "df.sample(5)"
      ]
    },
    {
      "cell_type": "code",
      "execution_count": null,
      "metadata": {
        "colab": {
          "base_uri": "https://localhost:8080/"
        },
        "id": "BwgxJX6V9lR5",
        "outputId": "3e065fe3-c4b6-4148-e0f3-f807f5298ea7"
      },
      "outputs": [
        {
          "data": {
            "text/plain": [
              "(12316, 13)"
            ]
          },
          "execution_count": 5,
          "metadata": {},
          "output_type": "execute_result"
        }
      ],
      "source": [
        "df.shape"
      ]
    },
    {
      "cell_type": "code",
      "execution_count": null,
      "metadata": {
        "colab": {
          "base_uri": "https://localhost:8080/"
        },
        "id": "8-HC2ezh9nS7",
        "outputId": "008785fa-2f0e-4cf4-ae9e-e1017e02db42"
      },
      "outputs": [
        {
          "data": {
            "text/plain": [
              "Index(['Day_of_week', 'Time', 'District', 'Thana', 'Area_accident_occured',\n",
              "       'Road_Name', 'Type_of_collision', 'Number_of_vehicles_involved',\n",
              "       'Type_of_vehicle1', 'Type_of_vehicle2', 'Number_of_casualties',\n",
              "       'Casualty_class', 'Accident_severity'],\n",
              "      dtype='object')"
            ]
          },
          "execution_count": 6,
          "metadata": {},
          "output_type": "execute_result"
        }
      ],
      "source": [
        "df.columns"
      ]
    },
    {
      "cell_type": "code",
      "execution_count": null,
      "metadata": {
        "colab": {
          "base_uri": "https://localhost:8080/",
          "height": 414
        },
        "id": "HgFLImdA9o5K",
        "outputId": "3f02173b-aff1-4646-ef4e-465822cb7bf1"
      },
      "outputs": [
        {
          "data": {
            "application/vnd.google.colaboratory.intrinsic+json": {
              "summary": "{\n  \"name\": \"df\",\n  \"rows\": 11,\n  \"fields\": [\n    {\n      \"column\": \"Day_of_week\",\n      \"properties\": {\n        \"dtype\": \"category\",\n        \"num_unique_values\": 4,\n        \"samples\": [\n          30,\n          \"1771\",\n          \"12208\"\n        ],\n        \"semantic_type\": \"\",\n        \"description\": \"\"\n      }\n    },\n    {\n      \"column\": \"Time\",\n      \"properties\": {\n        \"dtype\": \"category\",\n        \"num_unique_values\": 4,\n        \"samples\": [\n          15,\n          \"9797\",\n          \"11857\"\n        ],\n        \"semantic_type\": \"\",\n        \"description\": \"\"\n      }\n    },\n    {\n      \"column\": \"District\",\n      \"properties\": {\n        \"dtype\": \"category\",\n        \"num_unique_values\": 4,\n        \"samples\": [\n          82,\n          \"1035\",\n          \"12316\"\n        ],\n        \"semantic_type\": \"\",\n        \"description\": \"\"\n      }\n    },\n    {\n      \"column\": \"Thana\",\n      \"properties\": {\n        \"dtype\": \"category\",\n        \"num_unique_values\": 4,\n        \"samples\": [\n          2260,\n          \"689\",\n          \"12127\"\n        ],\n        \"semantic_type\": \"\",\n        \"description\": \"\"\n      }\n    },\n    {\n      \"column\": \"Area_accident_occured\",\n      \"properties\": {\n        \"dtype\": \"category\",\n        \"num_unique_values\": 4,\n        \"samples\": [\n          7966,\n          \"51\",\n          \"11668\"\n        ],\n        \"semantic_type\": \"\",\n        \"description\": \"\"\n      }\n    },\n    {\n      \"column\": \"Road_Name\",\n      \"properties\": {\n        \"dtype\": \"category\",\n        \"num_unique_values\": 4,\n        \"samples\": [\n          1674,\n          \"554\",\n          \"9676\"\n        ],\n        \"semantic_type\": \"\",\n        \"description\": \"\"\n      }\n    },\n    {\n      \"column\": \"Type_of_collision\",\n      \"properties\": {\n        \"dtype\": \"category\",\n        \"num_unique_values\": 4,\n        \"samples\": [\n          68,\n          \"4128\",\n          \"12307\"\n        ],\n        \"semantic_type\": \"\",\n        \"description\": \"\"\n      }\n    },\n    {\n      \"column\": \"Number_of_vehicles_involved\",\n      \"properties\": {\n        \"dtype\": \"number\",\n        \"std\": 4353.519030149126,\n        \"min\": 0.6887896452620738,\n        \"max\": 12316.0,\n        \"num_unique_values\": 6,\n        \"samples\": [\n          12316.0,\n          2.0406787918155245,\n          7.0\n        ],\n        \"semantic_type\": \"\",\n        \"description\": \"\"\n      }\n    },\n    {\n      \"column\": \"Type_of_vehicle1\",\n      \"properties\": {\n        \"dtype\": \"category\",\n        \"num_unique_values\": 4,\n        \"samples\": [\n          177,\n          \"1441\",\n          \"5133\"\n        ],\n        \"semantic_type\": \"\",\n        \"description\": \"\"\n      }\n    },\n    {\n      \"column\": \"Type_of_vehicle2\",\n      \"properties\": {\n        \"dtype\": \"category\",\n        \"num_unique_values\": 4,\n        \"samples\": [\n          177,\n          \"1441\",\n          \"5133\"\n        ],\n        \"semantic_type\": \"\",\n        \"description\": \"\"\n      }\n    },\n    {\n      \"column\": \"Number_of_casualties\",\n      \"properties\": {\n        \"dtype\": \"number\",\n        \"std\": 4353.578549582753,\n        \"min\": 1.0,\n        \"max\": 12316.0,\n        \"num_unique_values\": 6,\n        \"samples\": [\n          12316.0,\n          1.548148749594024,\n          8.0\n        ],\n        \"semantic_type\": \"\",\n        \"description\": \"\"\n      }\n    },\n    {\n      \"column\": \"Casualty_class\",\n      \"properties\": {\n        \"dtype\": \"category\",\n        \"num_unique_values\": 4,\n        \"samples\": [\n          4,\n          \"4944\",\n          \"12316\"\n        ],\n        \"semantic_type\": \"\",\n        \"description\": \"\"\n      }\n    },\n    {\n      \"column\": \"Accident_severity\",\n      \"properties\": {\n        \"dtype\": \"category\",\n        \"num_unique_values\": 4,\n        \"samples\": [\n          3,\n          \"10415\",\n          \"12316\"\n        ],\n        \"semantic_type\": \"\",\n        \"description\": \"\"\n      }\n    }\n  ]\n}",
              "type": "dataframe"
            },
            "text/html": [
              "\n",
              "  <div id=\"df-254916f9-36f2-4bbf-9a56-7f99e2490799\" class=\"colab-df-container\">\n",
              "    <div>\n",
              "<style scoped>\n",
              "    .dataframe tbody tr th:only-of-type {\n",
              "        vertical-align: middle;\n",
              "    }\n",
              "\n",
              "    .dataframe tbody tr th {\n",
              "        vertical-align: top;\n",
              "    }\n",
              "\n",
              "    .dataframe thead th {\n",
              "        text-align: right;\n",
              "    }\n",
              "</style>\n",
              "<table border=\"1\" class=\"dataframe\">\n",
              "  <thead>\n",
              "    <tr style=\"text-align: right;\">\n",
              "      <th></th>\n",
              "      <th>Day_of_week</th>\n",
              "      <th>Time</th>\n",
              "      <th>District</th>\n",
              "      <th>Thana</th>\n",
              "      <th>Area_accident_occured</th>\n",
              "      <th>Road_Name</th>\n",
              "      <th>Type_of_collision</th>\n",
              "      <th>Number_of_vehicles_involved</th>\n",
              "      <th>Type_of_vehicle1</th>\n",
              "      <th>Type_of_vehicle2</th>\n",
              "      <th>Number_of_casualties</th>\n",
              "      <th>Casualty_class</th>\n",
              "      <th>Accident_severity</th>\n",
              "    </tr>\n",
              "  </thead>\n",
              "  <tbody>\n",
              "    <tr>\n",
              "      <th>count</th>\n",
              "      <td>12208</td>\n",
              "      <td>11857</td>\n",
              "      <td>12316</td>\n",
              "      <td>12127</td>\n",
              "      <td>11668</td>\n",
              "      <td>9676</td>\n",
              "      <td>12307</td>\n",
              "      <td>12316.000000</td>\n",
              "      <td>5133</td>\n",
              "      <td>5133</td>\n",
              "      <td>12316.000000</td>\n",
              "      <td>12316</td>\n",
              "      <td>12316</td>\n",
              "    </tr>\n",
              "    <tr>\n",
              "      <th>unique</th>\n",
              "      <td>30</td>\n",
              "      <td>15</td>\n",
              "      <td>82</td>\n",
              "      <td>2260</td>\n",
              "      <td>7966</td>\n",
              "      <td>1674</td>\n",
              "      <td>68</td>\n",
              "      <td>NaN</td>\n",
              "      <td>177</td>\n",
              "      <td>177</td>\n",
              "      <td>NaN</td>\n",
              "      <td>4</td>\n",
              "      <td>3</td>\n",
              "    </tr>\n",
              "    <tr>\n",
              "      <th>top</th>\n",
              "      <td>Sat</td>\n",
              "      <td>Day</td>\n",
              "      <td>Dhaka</td>\n",
              "      <td>Sadar</td>\n",
              "      <td>Sherpur</td>\n",
              "      <td>Dhaka</td>\n",
              "      <td>Hit Pedestrian</td>\n",
              "      <td>NaN</td>\n",
              "      <td>Motor Cycle</td>\n",
              "      <td>Motor Cycle</td>\n",
              "      <td>NaN</td>\n",
              "      <td>Driver or rider</td>\n",
              "      <td>Slight Injury</td>\n",
              "    </tr>\n",
              "    <tr>\n",
              "      <th>freq</th>\n",
              "      <td>1771</td>\n",
              "      <td>9797</td>\n",
              "      <td>1035</td>\n",
              "      <td>689</td>\n",
              "      <td>51</td>\n",
              "      <td>554</td>\n",
              "      <td>4128</td>\n",
              "      <td>NaN</td>\n",
              "      <td>1441</td>\n",
              "      <td>1441</td>\n",
              "      <td>NaN</td>\n",
              "      <td>4944</td>\n",
              "      <td>10415</td>\n",
              "    </tr>\n",
              "    <tr>\n",
              "      <th>mean</th>\n",
              "      <td>NaN</td>\n",
              "      <td>NaN</td>\n",
              "      <td>NaN</td>\n",
              "      <td>NaN</td>\n",
              "      <td>NaN</td>\n",
              "      <td>NaN</td>\n",
              "      <td>NaN</td>\n",
              "      <td>2.040679</td>\n",
              "      <td>NaN</td>\n",
              "      <td>NaN</td>\n",
              "      <td>1.548149</td>\n",
              "      <td>NaN</td>\n",
              "      <td>NaN</td>\n",
              "    </tr>\n",
              "    <tr>\n",
              "      <th>std</th>\n",
              "      <td>NaN</td>\n",
              "      <td>NaN</td>\n",
              "      <td>NaN</td>\n",
              "      <td>NaN</td>\n",
              "      <td>NaN</td>\n",
              "      <td>NaN</td>\n",
              "      <td>NaN</td>\n",
              "      <td>0.688790</td>\n",
              "      <td>NaN</td>\n",
              "      <td>NaN</td>\n",
              "      <td>1.007179</td>\n",
              "      <td>NaN</td>\n",
              "      <td>NaN</td>\n",
              "    </tr>\n",
              "    <tr>\n",
              "      <th>min</th>\n",
              "      <td>NaN</td>\n",
              "      <td>NaN</td>\n",
              "      <td>NaN</td>\n",
              "      <td>NaN</td>\n",
              "      <td>NaN</td>\n",
              "      <td>NaN</td>\n",
              "      <td>NaN</td>\n",
              "      <td>1.000000</td>\n",
              "      <td>NaN</td>\n",
              "      <td>NaN</td>\n",
              "      <td>1.000000</td>\n",
              "      <td>NaN</td>\n",
              "      <td>NaN</td>\n",
              "    </tr>\n",
              "    <tr>\n",
              "      <th>25%</th>\n",
              "      <td>NaN</td>\n",
              "      <td>NaN</td>\n",
              "      <td>NaN</td>\n",
              "      <td>NaN</td>\n",
              "      <td>NaN</td>\n",
              "      <td>NaN</td>\n",
              "      <td>NaN</td>\n",
              "      <td>2.000000</td>\n",
              "      <td>NaN</td>\n",
              "      <td>NaN</td>\n",
              "      <td>1.000000</td>\n",
              "      <td>NaN</td>\n",
              "      <td>NaN</td>\n",
              "    </tr>\n",
              "    <tr>\n",
              "      <th>50%</th>\n",
              "      <td>NaN</td>\n",
              "      <td>NaN</td>\n",
              "      <td>NaN</td>\n",
              "      <td>NaN</td>\n",
              "      <td>NaN</td>\n",
              "      <td>NaN</td>\n",
              "      <td>NaN</td>\n",
              "      <td>2.000000</td>\n",
              "      <td>NaN</td>\n",
              "      <td>NaN</td>\n",
              "      <td>1.000000</td>\n",
              "      <td>NaN</td>\n",
              "      <td>NaN</td>\n",
              "    </tr>\n",
              "    <tr>\n",
              "      <th>75%</th>\n",
              "      <td>NaN</td>\n",
              "      <td>NaN</td>\n",
              "      <td>NaN</td>\n",
              "      <td>NaN</td>\n",
              "      <td>NaN</td>\n",
              "      <td>NaN</td>\n",
              "      <td>NaN</td>\n",
              "      <td>2.000000</td>\n",
              "      <td>NaN</td>\n",
              "      <td>NaN</td>\n",
              "      <td>2.000000</td>\n",
              "      <td>NaN</td>\n",
              "      <td>NaN</td>\n",
              "    </tr>\n",
              "    <tr>\n",
              "      <th>max</th>\n",
              "      <td>NaN</td>\n",
              "      <td>NaN</td>\n",
              "      <td>NaN</td>\n",
              "      <td>NaN</td>\n",
              "      <td>NaN</td>\n",
              "      <td>NaN</td>\n",
              "      <td>NaN</td>\n",
              "      <td>7.000000</td>\n",
              "      <td>NaN</td>\n",
              "      <td>NaN</td>\n",
              "      <td>8.000000</td>\n",
              "      <td>NaN</td>\n",
              "      <td>NaN</td>\n",
              "    </tr>\n",
              "  </tbody>\n",
              "</table>\n",
              "</div>\n",
              "    <div class=\"colab-df-buttons\">\n",
              "\n",
              "  <div class=\"colab-df-container\">\n",
              "    <button class=\"colab-df-convert\" onclick=\"convertToInteractive('df-254916f9-36f2-4bbf-9a56-7f99e2490799')\"\n",
              "            title=\"Convert this dataframe to an interactive table.\"\n",
              "            style=\"display:none;\">\n",
              "\n",
              "  <svg xmlns=\"http://www.w3.org/2000/svg\" height=\"24px\" viewBox=\"0 -960 960 960\">\n",
              "    <path d=\"M120-120v-720h720v720H120Zm60-500h600v-160H180v160Zm220 220h160v-160H400v160Zm0 220h160v-160H400v160ZM180-400h160v-160H180v160Zm440 0h160v-160H620v160ZM180-180h160v-160H180v160Zm440 0h160v-160H620v160Z\"/>\n",
              "  </svg>\n",
              "    </button>\n",
              "\n",
              "  <style>\n",
              "    .colab-df-container {\n",
              "      display:flex;\n",
              "      gap: 12px;\n",
              "    }\n",
              "\n",
              "    .colab-df-convert {\n",
              "      background-color: #E8F0FE;\n",
              "      border: none;\n",
              "      border-radius: 50%;\n",
              "      cursor: pointer;\n",
              "      display: none;\n",
              "      fill: #1967D2;\n",
              "      height: 32px;\n",
              "      padding: 0 0 0 0;\n",
              "      width: 32px;\n",
              "    }\n",
              "\n",
              "    .colab-df-convert:hover {\n",
              "      background-color: #E2EBFA;\n",
              "      box-shadow: 0px 1px 2px rgba(60, 64, 67, 0.3), 0px 1px 3px 1px rgba(60, 64, 67, 0.15);\n",
              "      fill: #174EA6;\n",
              "    }\n",
              "\n",
              "    .colab-df-buttons div {\n",
              "      margin-bottom: 4px;\n",
              "    }\n",
              "\n",
              "    [theme=dark] .colab-df-convert {\n",
              "      background-color: #3B4455;\n",
              "      fill: #D2E3FC;\n",
              "    }\n",
              "\n",
              "    [theme=dark] .colab-df-convert:hover {\n",
              "      background-color: #434B5C;\n",
              "      box-shadow: 0px 1px 3px 1px rgba(0, 0, 0, 0.15);\n",
              "      filter: drop-shadow(0px 1px 2px rgba(0, 0, 0, 0.3));\n",
              "      fill: #FFFFFF;\n",
              "    }\n",
              "  </style>\n",
              "\n",
              "    <script>\n",
              "      const buttonEl =\n",
              "        document.querySelector('#df-254916f9-36f2-4bbf-9a56-7f99e2490799 button.colab-df-convert');\n",
              "      buttonEl.style.display =\n",
              "        google.colab.kernel.accessAllowed ? 'block' : 'none';\n",
              "\n",
              "      async function convertToInteractive(key) {\n",
              "        const element = document.querySelector('#df-254916f9-36f2-4bbf-9a56-7f99e2490799');\n",
              "        const dataTable =\n",
              "          await google.colab.kernel.invokeFunction('convertToInteractive',\n",
              "                                                    [key], {});\n",
              "        if (!dataTable) return;\n",
              "\n",
              "        const docLinkHtml = 'Like what you see? Visit the ' +\n",
              "          '<a target=\"_blank\" href=https://colab.research.google.com/notebooks/data_table.ipynb>data table notebook</a>'\n",
              "          + ' to learn more about interactive tables.';\n",
              "        element.innerHTML = '';\n",
              "        dataTable['output_type'] = 'display_data';\n",
              "        await google.colab.output.renderOutput(dataTable, element);\n",
              "        const docLink = document.createElement('div');\n",
              "        docLink.innerHTML = docLinkHtml;\n",
              "        element.appendChild(docLink);\n",
              "      }\n",
              "    </script>\n",
              "  </div>\n",
              "\n",
              "\n",
              "<div id=\"df-2b032656-6ddf-41c6-b201-a6167d812df2\">\n",
              "  <button class=\"colab-df-quickchart\" onclick=\"quickchart('df-2b032656-6ddf-41c6-b201-a6167d812df2')\"\n",
              "            title=\"Suggest charts\"\n",
              "            style=\"display:none;\">\n",
              "\n",
              "<svg xmlns=\"http://www.w3.org/2000/svg\" height=\"24px\"viewBox=\"0 0 24 24\"\n",
              "     width=\"24px\">\n",
              "    <g>\n",
              "        <path d=\"M19 3H5c-1.1 0-2 .9-2 2v14c0 1.1.9 2 2 2h14c1.1 0 2-.9 2-2V5c0-1.1-.9-2-2-2zM9 17H7v-7h2v7zm4 0h-2V7h2v10zm4 0h-2v-4h2v4z\"/>\n",
              "    </g>\n",
              "</svg>\n",
              "  </button>\n",
              "\n",
              "<style>\n",
              "  .colab-df-quickchart {\n",
              "      --bg-color: #E8F0FE;\n",
              "      --fill-color: #1967D2;\n",
              "      --hover-bg-color: #E2EBFA;\n",
              "      --hover-fill-color: #174EA6;\n",
              "      --disabled-fill-color: #AAA;\n",
              "      --disabled-bg-color: #DDD;\n",
              "  }\n",
              "\n",
              "  [theme=dark] .colab-df-quickchart {\n",
              "      --bg-color: #3B4455;\n",
              "      --fill-color: #D2E3FC;\n",
              "      --hover-bg-color: #434B5C;\n",
              "      --hover-fill-color: #FFFFFF;\n",
              "      --disabled-bg-color: #3B4455;\n",
              "      --disabled-fill-color: #666;\n",
              "  }\n",
              "\n",
              "  .colab-df-quickchart {\n",
              "    background-color: var(--bg-color);\n",
              "    border: none;\n",
              "    border-radius: 50%;\n",
              "    cursor: pointer;\n",
              "    display: none;\n",
              "    fill: var(--fill-color);\n",
              "    height: 32px;\n",
              "    padding: 0;\n",
              "    width: 32px;\n",
              "  }\n",
              "\n",
              "  .colab-df-quickchart:hover {\n",
              "    background-color: var(--hover-bg-color);\n",
              "    box-shadow: 0 1px 2px rgba(60, 64, 67, 0.3), 0 1px 3px 1px rgba(60, 64, 67, 0.15);\n",
              "    fill: var(--button-hover-fill-color);\n",
              "  }\n",
              "\n",
              "  .colab-df-quickchart-complete:disabled,\n",
              "  .colab-df-quickchart-complete:disabled:hover {\n",
              "    background-color: var(--disabled-bg-color);\n",
              "    fill: var(--disabled-fill-color);\n",
              "    box-shadow: none;\n",
              "  }\n",
              "\n",
              "  .colab-df-spinner {\n",
              "    border: 2px solid var(--fill-color);\n",
              "    border-color: transparent;\n",
              "    border-bottom-color: var(--fill-color);\n",
              "    animation:\n",
              "      spin 1s steps(1) infinite;\n",
              "  }\n",
              "\n",
              "  @keyframes spin {\n",
              "    0% {\n",
              "      border-color: transparent;\n",
              "      border-bottom-color: var(--fill-color);\n",
              "      border-left-color: var(--fill-color);\n",
              "    }\n",
              "    20% {\n",
              "      border-color: transparent;\n",
              "      border-left-color: var(--fill-color);\n",
              "      border-top-color: var(--fill-color);\n",
              "    }\n",
              "    30% {\n",
              "      border-color: transparent;\n",
              "      border-left-color: var(--fill-color);\n",
              "      border-top-color: var(--fill-color);\n",
              "      border-right-color: var(--fill-color);\n",
              "    }\n",
              "    40% {\n",
              "      border-color: transparent;\n",
              "      border-right-color: var(--fill-color);\n",
              "      border-top-color: var(--fill-color);\n",
              "    }\n",
              "    60% {\n",
              "      border-color: transparent;\n",
              "      border-right-color: var(--fill-color);\n",
              "    }\n",
              "    80% {\n",
              "      border-color: transparent;\n",
              "      border-right-color: var(--fill-color);\n",
              "      border-bottom-color: var(--fill-color);\n",
              "    }\n",
              "    90% {\n",
              "      border-color: transparent;\n",
              "      border-bottom-color: var(--fill-color);\n",
              "    }\n",
              "  }\n",
              "</style>\n",
              "\n",
              "  <script>\n",
              "    async function quickchart(key) {\n",
              "      const quickchartButtonEl =\n",
              "        document.querySelector('#' + key + ' button');\n",
              "      quickchartButtonEl.disabled = true;  // To prevent multiple clicks.\n",
              "      quickchartButtonEl.classList.add('colab-df-spinner');\n",
              "      try {\n",
              "        const charts = await google.colab.kernel.invokeFunction(\n",
              "            'suggestCharts', [key], {});\n",
              "      } catch (error) {\n",
              "        console.error('Error during call to suggestCharts:', error);\n",
              "      }\n",
              "      quickchartButtonEl.classList.remove('colab-df-spinner');\n",
              "      quickchartButtonEl.classList.add('colab-df-quickchart-complete');\n",
              "    }\n",
              "    (() => {\n",
              "      let quickchartButtonEl =\n",
              "        document.querySelector('#df-2b032656-6ddf-41c6-b201-a6167d812df2 button');\n",
              "      quickchartButtonEl.style.display =\n",
              "        google.colab.kernel.accessAllowed ? 'block' : 'none';\n",
              "    })();\n",
              "  </script>\n",
              "</div>\n",
              "\n",
              "    </div>\n",
              "  </div>\n"
            ],
            "text/plain": [
              "       Day_of_week   Time District  Thana Area_accident_occured Road_Name  \\\n",
              "count        12208  11857    12316  12127                 11668      9676   \n",
              "unique          30     15       82   2260                  7966      1674   \n",
              "top            Sat    Day    Dhaka  Sadar               Sherpur     Dhaka   \n",
              "freq          1771   9797     1035    689                    51       554   \n",
              "mean           NaN    NaN      NaN    NaN                   NaN       NaN   \n",
              "std            NaN    NaN      NaN    NaN                   NaN       NaN   \n",
              "min            NaN    NaN      NaN    NaN                   NaN       NaN   \n",
              "25%            NaN    NaN      NaN    NaN                   NaN       NaN   \n",
              "50%            NaN    NaN      NaN    NaN                   NaN       NaN   \n",
              "75%            NaN    NaN      NaN    NaN                   NaN       NaN   \n",
              "max            NaN    NaN      NaN    NaN                   NaN       NaN   \n",
              "\n",
              "       Type_of_collision  Number_of_vehicles_involved Type_of_vehicle1  \\\n",
              "count              12307                 12316.000000             5133   \n",
              "unique                68                          NaN              177   \n",
              "top       Hit Pedestrian                          NaN      Motor Cycle   \n",
              "freq                4128                          NaN             1441   \n",
              "mean                 NaN                     2.040679              NaN   \n",
              "std                  NaN                     0.688790              NaN   \n",
              "min                  NaN                     1.000000              NaN   \n",
              "25%                  NaN                     2.000000              NaN   \n",
              "50%                  NaN                     2.000000              NaN   \n",
              "75%                  NaN                     2.000000              NaN   \n",
              "max                  NaN                     7.000000              NaN   \n",
              "\n",
              "       Type_of_vehicle2  Number_of_casualties   Casualty_class  \\\n",
              "count              5133          12316.000000            12316   \n",
              "unique              177                   NaN                4   \n",
              "top         Motor Cycle                   NaN  Driver or rider   \n",
              "freq               1441                   NaN             4944   \n",
              "mean                NaN              1.548149              NaN   \n",
              "std                 NaN              1.007179              NaN   \n",
              "min                 NaN              1.000000              NaN   \n",
              "25%                 NaN              1.000000              NaN   \n",
              "50%                 NaN              1.000000              NaN   \n",
              "75%                 NaN              2.000000              NaN   \n",
              "max                 NaN              8.000000              NaN   \n",
              "\n",
              "       Accident_severity  \n",
              "count              12316  \n",
              "unique                 3  \n",
              "top        Slight Injury  \n",
              "freq               10415  \n",
              "mean                 NaN  \n",
              "std                  NaN  \n",
              "min                  NaN  \n",
              "25%                  NaN  \n",
              "50%                  NaN  \n",
              "75%                  NaN  \n",
              "max                  NaN  "
            ]
          },
          "execution_count": 7,
          "metadata": {},
          "output_type": "execute_result"
        }
      ],
      "source": [
        "df.describe(include=\"all\")"
      ]
    },
    {
      "cell_type": "code",
      "execution_count": null,
      "metadata": {
        "colab": {
          "base_uri": "https://localhost:8080/"
        },
        "id": "BwP-I1a09ti9",
        "outputId": "93e31741-c323-46b4-a83f-0ef9fd35b189"
      },
      "outputs": [
        {
          "data": {
            "text/plain": [
              "Day_of_week                    object\n",
              "Time                           object\n",
              "District                       object\n",
              "Thana                          object\n",
              "Area_accident_occured          object\n",
              "Road_Name                      object\n",
              "Type_of_collision              object\n",
              "Number_of_vehicles_involved     int64\n",
              "Type_of_vehicle1               object\n",
              "Type_of_vehicle2               object\n",
              "Number_of_casualties            int64\n",
              "Casualty_class                 object\n",
              "Accident_severity              object\n",
              "dtype: object"
            ]
          },
          "execution_count": 8,
          "metadata": {},
          "output_type": "execute_result"
        }
      ],
      "source": [
        "df.dtypes"
      ]
    },
    {
      "cell_type": "code",
      "execution_count": null,
      "metadata": {
        "colab": {
          "base_uri": "https://localhost:8080/"
        },
        "id": "9QM--r-U9vtL",
        "outputId": "3fd111b3-3632-4b5f-a17d-c329bdb32dd0"
      },
      "outputs": [
        {
          "name": "stdout",
          "output_type": "stream",
          "text": [
            "<class 'pandas.core.frame.DataFrame'>\n",
            "RangeIndex: 12316 entries, 0 to 12315\n",
            "Data columns (total 13 columns):\n",
            " #   Column                       Non-Null Count  Dtype \n",
            "---  ------                       --------------  ----- \n",
            " 0   Day_of_week                  12208 non-null  object\n",
            " 1   Time                         11857 non-null  object\n",
            " 2   District                     12316 non-null  object\n",
            " 3   Thana                        12127 non-null  object\n",
            " 4   Area_accident_occured        11668 non-null  object\n",
            " 5   Road_Name                    9676 non-null   object\n",
            " 6   Type_of_collision            12307 non-null  object\n",
            " 7   Number_of_vehicles_involved  12316 non-null  int64 \n",
            " 8   Type_of_vehicle1             5133 non-null   object\n",
            " 9   Type_of_vehicle2             5133 non-null   object\n",
            " 10  Number_of_casualties         12316 non-null  int64 \n",
            " 11  Casualty_class               12316 non-null  object\n",
            " 12  Accident_severity            12316 non-null  object\n",
            "dtypes: int64(2), object(11)\n",
            "memory usage: 1.2+ MB\n"
          ]
        }
      ],
      "source": [
        "df.info()"
      ]
    },
    {
      "cell_type": "code",
      "execution_count": null,
      "metadata": {
        "colab": {
          "base_uri": "https://localhost:8080/"
        },
        "id": "oJFvFhv290Hx",
        "outputId": "6c5b3a83-762c-491b-87bd-4457c77cc29e"
      },
      "outputs": [
        {
          "data": {
            "text/plain": [
              "0        False\n",
              "1        False\n",
              "2        False\n",
              "3        False\n",
              "4        False\n",
              "         ...  \n",
              "12311    False\n",
              "12312    False\n",
              "12313    False\n",
              "12314    False\n",
              "12315    False\n",
              "Length: 12316, dtype: bool"
            ]
          },
          "execution_count": 10,
          "metadata": {},
          "output_type": "execute_result"
        }
      ],
      "source": [
        "df.duplicated()"
      ]
    },
    {
      "cell_type": "code",
      "execution_count": null,
      "metadata": {
        "colab": {
          "base_uri": "https://localhost:8080/"
        },
        "id": "C8c4HTiK95XW",
        "outputId": "3be890d9-7a0f-4d6c-9f43-98247e7cded4"
      },
      "outputs": [
        {
          "data": {
            "text/plain": [
              "17"
            ]
          },
          "execution_count": 11,
          "metadata": {},
          "output_type": "execute_result"
        }
      ],
      "source": [
        "df.duplicated().sum()"
      ]
    },
    {
      "cell_type": "code",
      "execution_count": null,
      "metadata": {
        "colab": {
          "base_uri": "https://localhost:8080/"
        },
        "id": "F1KgTfU999W5",
        "outputId": "bd4d42f3-6bf4-4c1a-c23c-c20a5b6ede1d"
      },
      "outputs": [
        {
          "data": {
            "text/plain": [
              "Accident_severity\n",
              "Fatal injury        158\n",
              "Serious Injury     1743\n",
              "Slight Injury     10415\n",
              "dtype: int64"
            ]
          },
          "execution_count": 12,
          "metadata": {},
          "output_type": "execute_result"
        }
      ],
      "source": [
        "df.groupby('Accident_severity').size()"
      ]
    },
    {
      "cell_type": "code",
      "execution_count": null,
      "metadata": {
        "colab": {
          "base_uri": "https://localhost:8080/"
        },
        "id": "PLK_y8Fu-fnK",
        "outputId": "93a93a8a-1e41-48b4-c21f-524880dce577"
      },
      "outputs": [
        {
          "data": {
            "text/plain": [
              "Day_of_week                     108\n",
              "Time                            459\n",
              "District                          0\n",
              "Thana                           189\n",
              "Area_accident_occured           648\n",
              "Road_Name                      2640\n",
              "Type_of_collision                 9\n",
              "Number_of_vehicles_involved       0\n",
              "Type_of_vehicle1               7183\n",
              "Type_of_vehicle2               7183\n",
              "Number_of_casualties              0\n",
              "Casualty_class                    0\n",
              "Accident_severity                 0\n",
              "dtype: int64"
            ]
          },
          "execution_count": 13,
          "metadata": {},
          "output_type": "execute_result"
        }
      ],
      "source": [
        "df.isnull().sum()"
      ]
    },
    {
      "cell_type": "code",
      "execution_count": null,
      "metadata": {
        "colab": {
          "base_uri": "https://localhost:8080/",
          "height": 468
        },
        "id": "NNIml-Xs-tPe",
        "outputId": "7f80b1a9-0d7b-4294-96f5-b8d22968e425"
      },
      "outputs": [
        {
          "data": {
            "image/png": "[encoded data removed]",
            "text/plain": [
              "<Figure size 3000x500 with 6 Axes>"
            ]
          },
          "metadata": {},
          "output_type": "display_data"
        }
      ],
      "source": [
        "df.hist(layout=(1,6), figsize=(30,5))\n",
        "plt.show()"
      ]
    },
    {
      "cell_type": "code",
      "execution_count": null,
      "metadata": {
        "colab": {
          "base_uri": "https://localhost:8080/"
        },
        "id": "8oFaaf9g-w0Q",
        "outputId": "ee7a1d3e-2c2d-4d0d-8410-6bdabcde2984"
      },
      "outputs": [
        {
          "data": {
            "text/plain": [
              "1    8397\n",
              "2    2290\n",
              "3     909\n",
              "4     394\n",
              "5     207\n",
              "6      89\n",
              "7      22\n",
              "8       8\n",
              "Name: Number_of_casualties, dtype: int64"
            ]
          },
          "execution_count": 15,
          "metadata": {},
          "output_type": "execute_result"
        }
      ],
      "source": [
        "df['Number_of_casualties'].value_counts()"
      ]
    },
    {
      "cell_type": "code",
      "execution_count": null,
      "metadata": {
        "colab": {
          "base_uri": "https://localhost:8080/",
          "height": 619
        },
        "id": "V5vX81qT-yq1",
        "outputId": "8e66f316-5a57-4777-fa23-318a1075b5b5"
      },
      "outputs": [
        {
          "data": {
            "image/png": "[encoded data removed]",
            "text/plain": [
              "<Figure size 1000x700 with 1 Axes>"
            ]
          },
          "metadata": {},
          "output_type": "display_data"
        }
      ],
      "source": [
        "plt.figure(figsize=(10,7))\n",
        "sns.boxplot(data=df, y='Number_of_vehicles_involved', x='Number_of_casualties')\n",
        "plt.show()"
      ]
    },
    {
      "cell_type": "code",
      "execution_count": null,
      "metadata": {
        "colab": {
          "base_uri": "https://localhost:8080/",
          "height": 411
        },
        "id": "KJX6C28G-0xr",
        "outputId": "5ca6fc91-7b7e-44c2-c1ce-b394cbae9e12"
      },
      "outputs": [
        {
          "data": {
            "image/png": "[encoded data removed]",
            "text/plain": [
              "<Figure size 640x480 with 1 Axes>"
            ]
          },
          "metadata": {},
          "output_type": "display_data"
        }
      ],
      "source": [
        "sns.boxplot(data=df, y='Number_of_casualties')\n",
        "plt.show()"
      ]
    },
    {
      "cell_type": "code",
      "execution_count": null,
      "metadata": {
        "colab": {
          "base_uri": "https://localhost:8080/",
          "height": 411
        },
        "id": "AAwmqKjw-3PR",
        "outputId": "be506d73-6e9c-428d-c2ba-981767622e5f"
      },
      "outputs": [
        {
          "data": {
            "image/png": "[encoded data removed]",
            "text/plain": [
              "<Figure size 640x480 with 1 Axes>"
            ]
          },
          "metadata": {},
          "output_type": "display_data"
        }
      ],
      "source": [
        "sns.boxplot(data=df, y='Number_of_vehicles_involved')\n",
        "plt.show()"
      ]
    },
    {
      "cell_type": "code",
      "execution_count": null,
      "metadata": {
        "colab": {
          "base_uri": "https://localhost:8080/"
        },
        "id": "cbNTEtEU-5Kc",
        "outputId": "2d89b0d8-74a9-4a2a-e19a-cd2954d09d1e"
      },
      "outputs": [
        {
          "data": {
            "text/plain": [
              "0        2\n",
              "1        2\n",
              "2        2\n",
              "3        2\n",
              "4        2\n",
              "        ..\n",
              "12311    2\n",
              "12312    2\n",
              "12313    1\n",
              "12314    2\n",
              "12315    2\n",
              "Name: Number_of_vehicles_involved, Length: 12316, dtype: int64"
            ]
          },
          "execution_count": 19,
          "metadata": {},
          "output_type": "execute_result"
        }
      ],
      "source": [
        "df['Number_of_vehicles_involved']"
      ]
    },
    {
      "cell_type": "code",
      "execution_count": null,
      "metadata": {
        "colab": {
          "base_uri": "https://localhost:8080/",
          "height": 450
        },
        "id": "Qf4DUdtU-7DN",
        "outputId": "45792d63-0d66-44b1-c877-65dcaeb8e3e9"
      },
      "outputs": [
        {
          "data": {
            "image/png": "[encoded data removed]",
            "text/plain": [
              "<Figure size 640x480 with 1 Axes>"
            ]
          },
          "metadata": {},
          "output_type": "display_data"
        }
      ],
      "source": [
        "sns.scatterplot(x=df['Number_of_vehicles_involved'], y=df['Number_of_casualties'])\n",
        "plt.show()"
      ]
    },
    {
      "cell_type": "code",
      "execution_count": null,
      "metadata": {
        "colab": {
          "base_uri": "https://localhost:8080/",
          "height": 513
        },
        "id": "tJ_O_b4b-830",
        "outputId": "acd61fc9-0aba-4e22-9e0d-35e36d12e179"
      },
      "outputs": [
        {
          "data": {
            "image/png": "[encoded data removed]",
            "text/plain": [
              "<Figure size 500x500 with 6 Axes>"
            ]
          },
          "metadata": {},
          "output_type": "display_data"
        }
      ],
      "source": [
        "sns.pairplot(df[['Number_of_vehicles_involved','Number_of_casualties']])\n",
        "plt.show()"
      ]
    },
    {
      "cell_type": "code",
      "execution_count": null,
      "metadata": {
        "colab": {
          "base_uri": "https://localhost:8080/",
          "height": 440
        },
        "id": "J9gX8999-_jX",
        "outputId": "04ff1b02-5f76-4f3a-dfb9-9f296aeb5ae6"
      },
      "outputs": [
        {
          "data": {
            "image/png": "[encoded data removed]",
            "text/plain": [
              "<Figure size 640x480 with 2 Axes>"
            ]
          },
          "metadata": {},
          "output_type": "display_data"
        }
      ],
      "source": [
        "correlation_matrix = df[['Number_of_vehicles_involved','Number_of_casualties']].corr()\n",
        "sns.heatmap(correlation_matrix, annot=True)\n",
        "plt.show()"
      ]
    },
    {
      "cell_type": "code",
      "execution_count": null,
      "metadata": {
        "colab": {
          "base_uri": "https://localhost:8080/",
          "height": 576
        },
        "id": "iemiq4v1_B2H",
        "outputId": "1b796a17-0ac8-422d-e08d-1b7a68d978d2"
      },
      "outputs": [
        {
          "data": {
            "image/png": "[encoded data removed]",
            "text/plain": [
              "<Figure size 1000x700 with 1 Axes>"
            ]
          },
          "metadata": {},
          "output_type": "display_data"
        }
      ],
      "source": [
        "plt.figure(figsize=(10,7))\n",
        "plt.pie(x=df['Accident_severity'].value_counts().values,\n",
        "        labels=df['Accident_severity'].value_counts().index,\n",
        "        autopct='%2.2f%%')\n",
        "plt.show()"
      ]
    },
    {
      "cell_type": "code",
      "execution_count": null,
      "metadata": {
        "colab": {
          "base_uri": "https://localhost:8080/",
          "height": 407
        },
        "id": "Ybqsl1Y0_FBb",
        "outputId": "2f6a1679-77c9-46e8-aa9c-aa94b9b9aead"
      },
      "outputs": [
        {
          "data": {
            "image/png": "[encoded data removed]",
            "text/plain": [
              "<Figure size 1200x400 with 3 Axes>"
            ]
          },
          "metadata": {},
          "output_type": "display_data"
        }
      ],
      "source": [
        "grid = sns.FacetGrid(data=df, col='Accident_severity', height=4, aspect=1, sharey=False)\n",
        "grid.map(sns.countplot, 'Number_of_vehicles_involved', palette=['black', 'brown', 'orange'])\n",
        "plt.show()"
      ]
    },
    {
      "cell_type": "code",
      "execution_count": null,
      "metadata": {
        "colab": {
          "base_uri": "https://localhost:8080/"
        },
        "id": "WfAVgPOy_G2J",
        "outputId": "f2304bbc-0a3b-4932-c046-31c5d901b309"
      },
      "outputs": [
        {
          "data": {
            "text/plain": [
              "Index(['Day_of_week', 'Time', 'District', 'Thana', 'Area_accident_occured',\n",
              "       'Road_Name', 'Type_of_collision', 'Number_of_vehicles_involved',\n",
              "       'Type_of_vehicle1', 'Type_of_vehicle2', 'Number_of_casualties',\n",
              "       'Casualty_class', 'Accident_severity'],\n",
              "      dtype='object')"
            ]
          },
          "execution_count": 25,
          "metadata": {},
          "output_type": "execute_result"
        }
      ],
      "source": [
        "df.columns"
      ]
    },
    {
      "cell_type": "code",
      "execution_count": null,
      "metadata": {
        "id": "lJS5wk2B_M_Y"
      },
      "outputs": [],
      "source": [
        "# dropping columns that can cause imbalance while imputation\n",
        "lists=['Day_of_week','Time','District','Thana','Area_accident_occured','Road_Name','Type_of_vehicle1', 'Type_of_vehicle2']\n",
        "df.drop(columns = lists, inplace=True)"
      ]
    },
    {
      "cell_type": "code",
      "execution_count": null,
      "metadata": {
        "colab": {
          "base_uri": "https://localhost:8080/"
        },
        "id": "Z2sz_YEJDsJy",
        "outputId": "dadead8e-9198-4b26-e016-fb45606cee5d"
      },
      "outputs": [
        {
          "data": {
            "text/plain": [
              "(12316, 5)"
            ]
          },
          "execution_count": 27,
          "metadata": {},
          "output_type": "execute_result"
        }
      ],
      "source": [
        "df.shape"
      ]
    },
    {
      "cell_type": "code",
      "execution_count": null,
      "metadata": {
        "colab": {
          "base_uri": "https://localhost:8080/"
        },
        "id": "V2PtcIY6Dvy2",
        "outputId": "1a0f6d96-dfa0-4aeb-a6d1-b8740e86c760"
      },
      "outputs": [
        {
          "data": {
            "text/plain": [
              "Index(['Type_of_collision', 'Number_of_vehicles_involved',\n",
              "       'Number_of_casualties', 'Casualty_class', 'Accident_severity'],\n",
              "      dtype='object')"
            ]
          },
          "execution_count": 28,
          "metadata": {},
          "output_type": "execute_result"
        }
      ],
      "source": [
        "df.columns"
      ]
    },
    {
      "cell_type": "code",
      "execution_count": null,
      "metadata": {
        "colab": {
          "base_uri": "https://localhost:8080/"
        },
        "id": "v1Sx4rJHD0SO",
        "outputId": "6cc1c5c3-0e22-4150-a92f-634bc6505e3b"
      },
      "outputs": [
        {
          "data": {
            "text/plain": [
              "Type_of_collision              9\n",
              "Number_of_vehicles_involved    0\n",
              "Number_of_casualties           0\n",
              "Casualty_class                 0\n",
              "Accident_severity              0\n",
              "dtype: int64"
            ]
          },
          "execution_count": 29,
          "metadata": {},
          "output_type": "execute_result"
        }
      ],
      "source": [
        "df.isnull().sum()"
      ]
    },
    {
      "cell_type": "code",
      "execution_count": null,
      "metadata": {
        "colab": {
          "base_uri": "https://localhost:8080/",
          "height": 585
        },
        "id": "pz84vnAaD3Uf",
        "outputId": "22a5c5a0-ff3e-489c-e3be-41196a230cea"
      },
      "outputs": [
        {
          "name": "stdout",
          "output_type": "stream",
          "text": [
            "Class 0: 10415\n",
            "Class 1: 1743\n",
            "Proportion: 5.98 : 1\n"
          ]
        },
        {
          "data": {
            "image/png": "[encoded data removed]",
            "text/plain": [
              "<Figure size 640x480 with 1 Axes>"
            ]
          },
          "metadata": {},
          "output_type": "display_data"
        }
      ],
      "source": [
        "target_count = df['Accident_severity'].value_counts()\n",
        "print('Class 0:', target_count[0])\n",
        "print('Class 1:', target_count[1])\n",
        "print('Proportion:', round(target_count[0] / target_count[1], 2), ': 1')\n",
        "\n",
        "target_count.plot(kind='bar', title='Count (target)');"
      ]
    },
    {
      "cell_type": "code",
      "execution_count": null,
      "metadata": {
        "id": "Y6sFCTtyEESt"
      },
      "outputs": [],
      "source": [
        "from sklearn.preprocessing import LabelEncoder           #or one hot encoder\n",
        "LE = LabelEncoder()\n",
        "df=df.apply(LE.fit_transform)"
      ]
    },
    {
      "cell_type": "code",
      "execution_count": null,
      "metadata": {
        "colab": {
          "base_uri": "https://localhost:8080/",
          "height": 990
        },
        "id": "m64xvHvGEOyT",
        "outputId": "413fd98d-2c3c-4689-fc61-84a9b444fad3"
      },
      "outputs": [
        {
          "data": {
            "text/plain": [
              "<Axes: >"
            ]
          },
          "execution_count": 32,
          "metadata": {},
          "output_type": "execute_result"
        },
        {
          "data": {
            "image/png": "[encoded data removed]",
            "text/plain": [
              "<Figure size 2500x1500 with 2 Axes>"
            ]
          },
          "metadata": {},
          "output_type": "display_data"
        }
      ],
      "source": [
        "plt.figure(figsize=[25,15])\n",
        "sns.heatmap(df.corr(),annot=True)"
      ]
    },
    {
      "cell_type": "code",
      "execution_count": null,
      "metadata": {
        "id": "VNiAz__cEXF6"
      },
      "outputs": [],
      "source": [
        "for col in df.select_dtypes(include='object'):\n",
        "    if df[col].nunique() <= 22:\n",
        "        sns.countplot(y=col, data=df)\n",
        "        plt.show()"
      ]
    },
    {
      "cell_type": "code",
      "execution_count": null,
      "metadata": {
        "colab": {
          "base_uri": "https://localhost:8080/"
        },
        "id": "O_rFX3ZrEbU8",
        "outputId": "014bbb1f-1cad-466e-92ac-ca8b73da361d"
      },
      "outputs": [
        {
          "name": "stdout",
          "output_type": "stream",
          "text": [
            "(8621, 4) (3695, 4) (8621,) (3695,)\n"
          ]
        }
      ],
      "source": [
        "x = df.drop('Accident_severity', axis=1)\n",
        "y = df['Accident_severity']\n",
        "\n",
        "xtrain, xtest, ytrain, ytest = train_test_split(x, y, test_size=0.3, random_state=42)\n",
        "print(xtrain.shape, xtest.shape, ytrain.shape, ytest.shape)"
      ]
    },
    {
      "cell_type": "code",
      "execution_count": null,
      "metadata": {
        "colab": {
          "base_uri": "https://localhost:8080/"
        },
        "id": "dUIjFXvvEe7E",
        "outputId": "45667bcd-eaf0-4dee-cf89-bf6dfa7a0489"
      },
      "outputs": [
        {
          "name": "stdout",
          "output_type": "stream",
          "text": [
            "=============================\n",
            "Class= 2, n=7324 (84.96%)\n",
            "Class= 1, n=1191 (13.82%)\n",
            "Class= 0, n=106 (1.23%)\n",
            "=============================\n",
            "Class= 2, n=7324 (33.33%)\n",
            "Class= 1, n=7324 (33.33%)\n",
            "Class= 0, n=7324 (33.33%)\n",
            "=============================\n",
            "Upsampled data shape:  (21972, 4) (21972,)\n"
          ]
        }
      ],
      "source": [
        "# upsampling using smote\n",
        "\n",
        "counter = Counter(ytrain)\n",
        "\n",
        "print(\"=============================\")\n",
        "\n",
        "for k,v in counter.items():\n",
        "    per = 100*v/len(ytrain)\n",
        "    print(f\"Class= {k}, n={v} ({per:.2f}%)\")\n",
        "\n",
        "oversample = SMOTE()\n",
        "xtrain, ytrain = oversample.fit_resample(xtrain, ytrain)\n",
        "\n",
        "counter = Counter(ytrain)\n",
        "\n",
        "print(\"=============================\")\n",
        "\n",
        "for k,v in counter.items():\n",
        "    per = 100*v/len(ytrain)\n",
        "    print(f\"Class= {k}, n={v} ({per:.2f}%)\")\n",
        "\n",
        "print(\"=============================\")\n",
        "\n",
        "print(\"Upsampled data shape: \", xtrain.shape, ytrain.shape)"
      ]
    },
    {
      "cell_type": "code",
      "execution_count": null,
      "metadata": {
        "id": "3ro-IbWqEj9O"
      },
      "outputs": [],
      "source": [
        "x=df.drop(columns=[\"Accident_severity\"])\n",
        "y=df[\"Accident_severity\"]"
      ]
    },
    {
      "cell_type": "code",
      "execution_count": null,
      "metadata": {
        "id": "cgnvQdIJElqJ"
      },
      "outputs": [],
      "source": [
        "models={\"LogisticRegression\":LogisticRegression(),\n",
        "        \"DecisionTreeClassifier\":DecisionTreeClassifier(),\n",
        "        \"SVM\":SVC(),\n",
        "        \"KNeighborsClassifier\":KNeighborsClassifier(),\n",
        "        \"GNB\":GaussianNB(),\n",
        "       \"RandomForestClassifier\":RandomForestClassifier(),\n",
        "        \"AdaBoostClassifier\":AdaBoostClassifier(),\n",
        "        \"GradientBoostingClassifier\":GradientBoostingClassifier(),\n",
        "        }"
      ]
    },
    {
      "cell_type": "code",
      "execution_count": null,
      "metadata": {
        "id": "0L45aIYIEnZj"
      },
      "outputs": [],
      "source": [
        "# models,x,y,scaleFlag=0,1,2\n",
        "def modelAccuracy(models,x,y,scaleFlag):\n",
        "    #train/Test\n",
        "    xtrain,xtest,ytrain,ytest=train_test_split(x,y,test_size=0.2,random_state=0)\n",
        "    acc_result={}\n",
        "    for name,model in models.items():\n",
        "        #pipeline\n",
        "        #1.Transformer -> 2.Model\n",
        "        if(scaleFlag==1):\n",
        "            model_pipeline=Pipeline([('MinMaxScler',MinMaxScaler()),('model',model)])\n",
        "        elif(scaleFlag==2):\n",
        "             model_pipeline=Pipeline([('StandardScaler',StandardScaler()),('model',model)])\n",
        "        else:\n",
        "            model_pipeline=Pipeline([('model',model)])\n",
        "        #training/testing on model pipeline\n",
        "        model_fit=model_pipeline.fit(xtrain,ytrain)\n",
        "        ypred=model_fit.predict(xtest)\n",
        "        acc=accuracy_score(ytest,ypred)\n",
        "        print(\"The Accuracy for \",name,\" is :\",acc)\n",
        "        acc_result[name]=acc\n",
        "    return acc_result"
      ]
    },
    {
      "cell_type": "code",
      "execution_count": null,
      "metadata": {
        "id": "pkPOrkQIEuWb"
      },
      "outputs": [],
      "source": [
        "def bestModel(result):\n",
        "    high=0\n",
        "    for name,acc in result.items():\n",
        "        if acc>high:\n",
        "            high=acc\n",
        "            model_name=name\n",
        "    print(\"Best Model is \",model_name,\" with accuaracy =>\",high)"
      ]
    },
    {
      "cell_type": "code",
      "execution_count": null,
      "metadata": {
        "id": "G5NSx6ReEy40"
      },
      "outputs": [],
      "source": [
        "def bestParams(model,param,xtrain,ytrain):\n",
        "    #cv\n",
        "    cv=RepeatedStratifiedKFold(n_splits=5,n_repeats=3)\n",
        "    grid_cv=GridSearchCV(estimator=model,param_grid=param,cv=cv,scoring=\"f1_weighted\")\n",
        "    res=grid_cv.fit(xtrain,ytrain)\n",
        "    print(\"Best Parameters are \",res.best_params_)\n",
        "    print(\"Best Accuracy is \",res.best_score_)"
      ]
    },
    {
      "cell_type": "code",
      "execution_count": null,
      "metadata": {
        "colab": {
          "base_uri": "https://localhost:8080/"
        },
        "id": "1W7IBgalE2nm",
        "outputId": "543bc5e3-53d7-44c0-88fd-0db1dcd1a523"
      },
      "outputs": [
        {
          "name": "stdout",
          "output_type": "stream",
          "text": [
            "The Accuracy for  LogisticRegression  is : 0.84375\n",
            "The Accuracy for  DecisionTreeClassifier  is : 0.8368506493506493\n",
            "The Accuracy for  SVM  is : 0.84375\n",
            "The Accuracy for  KNeighborsClassifier  is : 0.8319805194805194\n",
            "The Accuracy for  GNB  is : 0.8327922077922078\n",
            "The Accuracy for  RandomForestClassifier  is : 0.8417207792207793\n",
            "The Accuracy for  AdaBoostClassifier  is : 0.8433441558441559\n",
            "The Accuracy for  GradientBoostingClassifier  is : 0.8449675324675324\n"
          ]
        }
      ],
      "source": [
        "acc=modelAccuracy(models,x,y,1)"
      ]
    },
    {
      "cell_type": "code",
      "execution_count": null,
      "metadata": {
        "colab": {
          "base_uri": "https://localhost:8080/"
        },
        "id": "62ahGKclE2qm",
        "outputId": "ada1f042-3187-4bad-fb75-caf9d45eafdd"
      },
      "outputs": [
        {
          "name": "stdout",
          "output_type": "stream",
          "text": [
            "Best Model is  GradientBoostingClassifier  with accuaracy => 0.8449675324675324\n"
          ]
        }
      ],
      "source": [
        "bestModel(acc)"
      ]
    }
  ],
  "metadata": {
    "colab": {
      "provenance": []
    },
    "kernelspec": {
      "display_name": "Python 3",
      "name": "python3"
    },
    "language_info": {
      "name": "python"
    }
  },
  "nbformat": 4,
  "nbformat_minor": 0
}